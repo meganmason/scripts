{
 "cells": [
  {
   "cell_type": "code",
   "execution_count": 2,
   "metadata": {},
   "outputs": [],
   "source": [
    "%matplotlib inline \n",
    "\n",
    "import os\n",
    "import glob\n",
    "import numpy as np\n",
    "import pandas as pd\n",
    "from skimage import io \n",
    "import rasterio\n",
    "import subprocess as sp\n",
    "import matplotlib\n",
    "import matplotlib.pyplot as plt"
   ]
  },
  {
   "cell_type": "code",
   "execution_count": null,
   "metadata": {},
   "outputs": [],
   "source": [
    "mu_sd= []\n",
    "sca_km= []\n",
    "p_basin = []"
   ]
  },
  {
   "cell_type": "code",
   "execution_count": null,
   "metadata": {},
   "outputs": [],
   "source": [
    "path = '/home/meganmason/Documents/projects/thesis/data/processing_lidar/depths_3m/clipped/'\n",
    "#path = '/home/meganmason/Documents/projects/thesis/data/processing_lidar/depths_3m/clipped/20170401_clipped.tif'\n",
    "\n",
    "\n",
    "##LOOP - change path to f....2 spots)\n",
    "for f in sorted(glob.glob(os.path.join(path, '*.tif'))):\n",
    "    print(f)\n",
    "    raster = io.imread(f) #path\n",
    "    # print(\"raster shape\",raster.shape)\n",
    "\n",
    "    # io.imshow(raster[:,:,0]) #snow depth, band1\n",
    "    # io.show()\n",
    "\n",
    "    # io.imshow(raster[:,:,1]) #alpha mask, band2\n",
    "    # io.show()\n",
    "\n",
    "\n",
    "    # convert to numpy array\n",
    "    array = np.array(raster[:,:,0]) #RAW array of lidar tif\n",
    "    # print(\"array shape\",array.shape)\n",
    "\n",
    "    #Ernesto method....\n",
    "    # a=array.copy()\n",
    "    sno_mask = array.copy()\n",
    "    \n",
    "    sno_mask[sno_mask > 0] = 1 #make SCA mask\n",
    "\n",
    "    #sno_mask is matrix of 0 (no snow) and 1's (snow)\n",
    "#     plt.imshow(sno_mask,alpha=None)\n",
    "#     plt.title('Mask Layer (1=snow cover)')\n",
    "#     plt.show()\n",
    "\n",
    "    # meanSD -- caclulate mean snow depth (meanSD), without zero snow pixels\n",
    "    mu_sd = np.mean(sno_mask) #mean snow depth, from sca \n",
    "    print(\"mean snow depth\", mu_sd,'meters')\n",
    "\n",
    "\n",
    "    # SCA -- pixs snow cover * pixel size\n",
    "    num_pix = np.sum(sno_mask) #number of pixels with snow cover (sum the 1's)\n",
    "#     print(\"number pixels with snow cover\",num_pix)\n",
    "    \n",
    "    ras =  rasterio.open(f) #CHANGE FOR LOOP\n",
    "    gt = ras.transform\n",
    "    pixelSizeX = gt[0]\n",
    "    pixelSizeY =-gt[4] #notice the -gt\n",
    "#     print('pixel size (x,y) = ',pixelSizeX, pixelSizeY)\n",
    "\n",
    "    sca = num_pix * pixelSizeX * pixelSizeY\n",
    "    sca_km = sca/1000**2\n",
    "    p_basin = sca_km/1180 *100  #per Hedrick et al. 2018\n",
    "    print('Snow Covered Area (SCA) = ', sca, 'm^2')\n",
    "    print('Snow Covered Area (SCA) = ', sca_km, 'km^2')\n",
    "    print('% Basin snow cover', p_basin, '%')\n",
    "    \n",
    "#     array.close()\n",
    "#     sno_mask.close()\n",
    "    ras.close()"
   ]
  },
  {
   "cell_type": "code",
   "execution_count": 4,
   "metadata": {},
   "outputs": [
    {
     "name": "stdout",
     "output_type": "stream",
     "text": [
      "[0, 100, 200, 300, 400]\n"
     ]
    },
    {
     "name": "stderr",
     "output_type": "stream",
     "text": [
      "/home/meganmason/Documents/projects/thesis/analysis/virtual_envs/data_analysis/lib/python3.6/site-packages/ipykernel_launcher.py:22: FutureWarning: from_items is deprecated. Please use DataFrame.from_dict(dict(items), ...) instead. DataFrame.from_dict(OrderedDict(items)) may be used to preserve the key order.\n"
     ]
    },
    {
     "ename": "TypeError",
     "evalue": "zip argument #1 must support iteration",
     "output_type": "error",
     "traceback": [
      "\u001b[0;31m---------------------------------------------------------------------------\u001b[0m",
      "\u001b[0;31mTypeError\u001b[0m                                 Traceback (most recent call last)",
      "\u001b[0;32m<ipython-input-4-481ac10806ca>\u001b[0m in \u001b[0;36m<module>\u001b[0;34m\u001b[0m\n\u001b[1;32m     20\u001b[0m \u001b[0;31m#     p_basin.append()\u001b[0m\u001b[0;34m\u001b[0m\u001b[0;34m\u001b[0m\u001b[0;34m\u001b[0m\u001b[0m\n\u001b[1;32m     21\u001b[0m \u001b[0;34m\u001b[0m\u001b[0m\n\u001b[0;32m---> 22\u001b[0;31m \u001b[0mdf1\u001b[0m \u001b[0;34m=\u001b[0m \u001b[0mpd\u001b[0m\u001b[0;34m.\u001b[0m\u001b[0mDataFrame\u001b[0m\u001b[0;34m.\u001b[0m\u001b[0mfrom_items\u001b[0m\u001b[0;34m(\u001b[0m\u001b[0mmu_sd\u001b[0m\u001b[0;34m)\u001b[0m\u001b[0;34m\u001b[0m\u001b[0;34m\u001b[0m\u001b[0m\n\u001b[0m\u001b[1;32m     23\u001b[0m \u001b[0;31m# pd.DataFrame.from_items(sca_km)\u001b[0m\u001b[0;34m\u001b[0m\u001b[0;34m\u001b[0m\u001b[0;34m\u001b[0m\u001b[0m\n\u001b[1;32m     24\u001b[0m \u001b[0;31m# pd.DataFrame.from_items(p_basin)\u001b[0m\u001b[0;34m\u001b[0m\u001b[0;34m\u001b[0m\u001b[0;34m\u001b[0m\u001b[0m\n",
      "\u001b[0;32m~/Documents/projects/thesis/analysis/virtual_envs/data_analysis/lib/python3.6/site-packages/pandas/core/frame.py\u001b[0m in \u001b[0;36mfrom_items\u001b[0;34m(cls, items, columns, orient)\u001b[0m\n\u001b[1;32m   1780\u001b[0m                       FutureWarning, stacklevel=2)\n\u001b[1;32m   1781\u001b[0m \u001b[0;34m\u001b[0m\u001b[0m\n\u001b[0;32m-> 1782\u001b[0;31m         \u001b[0mkeys\u001b[0m\u001b[0;34m,\u001b[0m \u001b[0mvalues\u001b[0m \u001b[0;34m=\u001b[0m \u001b[0mlzip\u001b[0m\u001b[0;34m(\u001b[0m\u001b[0;34m*\u001b[0m\u001b[0mitems\u001b[0m\u001b[0;34m)\u001b[0m\u001b[0;34m\u001b[0m\u001b[0;34m\u001b[0m\u001b[0m\n\u001b[0m\u001b[1;32m   1783\u001b[0m \u001b[0;34m\u001b[0m\u001b[0m\n\u001b[1;32m   1784\u001b[0m         \u001b[0;32mif\u001b[0m \u001b[0morient\u001b[0m \u001b[0;34m==\u001b[0m \u001b[0;34m'columns'\u001b[0m\u001b[0;34m:\u001b[0m\u001b[0;34m\u001b[0m\u001b[0;34m\u001b[0m\u001b[0m\n",
      "\u001b[0;32m~/Documents/projects/thesis/analysis/virtual_envs/data_analysis/lib/python3.6/site-packages/pandas/compat/__init__.py\u001b[0m in \u001b[0;36mlzip\u001b[0;34m(*args, **kwargs)\u001b[0m\n\u001b[1;32m    127\u001b[0m \u001b[0;34m\u001b[0m\u001b[0m\n\u001b[1;32m    128\u001b[0m     \u001b[0;32mdef\u001b[0m \u001b[0mlzip\u001b[0m\u001b[0;34m(\u001b[0m\u001b[0;34m*\u001b[0m\u001b[0margs\u001b[0m\u001b[0;34m,\u001b[0m \u001b[0;34m**\u001b[0m\u001b[0mkwargs\u001b[0m\u001b[0;34m)\u001b[0m\u001b[0;34m:\u001b[0m\u001b[0;34m\u001b[0m\u001b[0;34m\u001b[0m\u001b[0m\n\u001b[0;32m--> 129\u001b[0;31m         \u001b[0;32mreturn\u001b[0m \u001b[0mlist\u001b[0m\u001b[0;34m(\u001b[0m\u001b[0mzip\u001b[0m\u001b[0;34m(\u001b[0m\u001b[0;34m*\u001b[0m\u001b[0margs\u001b[0m\u001b[0;34m,\u001b[0m \u001b[0;34m**\u001b[0m\u001b[0mkwargs\u001b[0m\u001b[0;34m)\u001b[0m\u001b[0;34m)\u001b[0m\u001b[0;34m\u001b[0m\u001b[0;34m\u001b[0m\u001b[0m\n\u001b[0m\u001b[1;32m    130\u001b[0m \u001b[0;34m\u001b[0m\u001b[0m\n\u001b[1;32m    131\u001b[0m     \u001b[0;32mdef\u001b[0m \u001b[0mlmap\u001b[0m\u001b[0;34m(\u001b[0m\u001b[0;34m*\u001b[0m\u001b[0margs\u001b[0m\u001b[0;34m,\u001b[0m \u001b[0;34m**\u001b[0m\u001b[0mkwargs\u001b[0m\u001b[0;34m)\u001b[0m\u001b[0;34m:\u001b[0m\u001b[0;34m\u001b[0m\u001b[0;34m\u001b[0m\u001b[0m\n",
      "\u001b[0;31mTypeError\u001b[0m: zip argument #1 must support iteration"
     ]
    }
   ],
   "source": [
    "mu_sd= []\n",
    "sca_km= []\n",
    "p_basin = []\n",
    "\n",
    "col=['a','b','c']\n",
    "\n",
    "for i in range(5):\n",
    "   \n",
    "    mu_sd.append(100*i)\n",
    "    sca_km.append(5-i)\n",
    "    p_basin.append(i)\n",
    "#     mu_= 100*i\n",
    "#     print(mu_)\n",
    "#     sca_km= 4+6+i\n",
    "#     p_basin = .5*i\n",
    "\n",
    "print(mu_sd)\n",
    "#     mu_sd.append(md_) \n",
    "#     sca_km.append() \n",
    "#     p_basin.append()\n",
    "\n",
    "df1 = pd.DataFrame.from_items(mu_sd)\n",
    "# pd.DataFrame.from_items(sca_km)\n",
    "# pd.DataFrame.from_items(p_basin)\n",
    "# pd.DataFrame(np.array([[mu_sd, sca_km, p_basin]]),columns=['meanSD (m)','SCA (km)','% basin'])\n",
    "\n",
    "# mu_sd=[5,4,3]\n",
    "# sca_km=[6,7,8]\n",
    "# p_basin = [1,2,3]\n",
    "\n",
    "# pd.DataFrame.append(np.array([[mu_sd, sca_km, p_basin]]),columns=['meanSD','SCA (km)','% basin'])\n"
   ]
  },
  {
   "cell_type": "code",
   "execution_count": null,
   "metadata": {},
   "outputs": [],
   "source": []
  }
 ],
 "metadata": {
  "kernelspec": {
   "display_name": "Python 3",
   "language": "python",
   "name": "python3"
  },
  "language_info": {
   "codemirror_mode": {
    "name": "ipython",
    "version": 3
   },
   "file_extension": ".py",
   "mimetype": "text/x-python",
   "name": "python",
   "nbconvert_exporter": "python",
   "pygments_lexer": "ipython3",
   "version": "3.6.7"
  }
 },
 "nbformat": 4,
 "nbformat_minor": 2
}
