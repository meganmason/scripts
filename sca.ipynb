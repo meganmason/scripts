{
 "cells": [
  {
   "cell_type": "code",
   "execution_count": 1,
   "metadata": {},
   "outputs": [],
   "source": [
    "%matplotlib inline \n",
    "\n",
    "import os\n",
    "import glob\n",
    "import sys\n",
    "import numpy as np\n",
    "import pandas as pd\n",
    "from skimage import io \n",
    "import rasterio\n",
    "import subprocess as sp\n",
    "import matplotlib\n",
    "import matplotlib.pyplot as plt\n",
    "# import seaborn as sns"
   ]
  },
  {
   "cell_type": "code",
   "execution_count": 2,
   "metadata": {},
   "outputs": [],
   "source": [
    "sd_lst = np.array([])\n",
    "sc_lst = np.array([])\n",
    "pb_lst = np.array([])"
   ]
  },
  {
   "cell_type": "code",
   "execution_count": 7,
   "metadata": {},
   "outputs": [
    {
     "name": "stdout",
     "output_type": "stream",
     "text": [
      "/home/meganmason/Documents/projects/thesis/data/processing_lidar/depths_3m/clipped/batch_test/20170717_clipped.tif\n"
     ]
    },
    {
     "name": "stderr",
     "output_type": "stream",
     "text": [
      "/home/meganmason/Documents/projects/thesis/analysis/virtual_envs/data_analysis/lib/python3.6/site-packages/skimage/io/_plugins/matplotlib_plugin.py:80: UserWarning: Float image out of standard range; displaying image with stretched contrast.\n",
      "  warn(\"Float image out of standard range; displaying \"\n"
     ]
    },
    {
     "data": {
      "image/png": "[encoded data removed]",
      "text/plain": [
       "<Figure size 432x288 with 2 Axes>"
      ]
     },
     "metadata": {
      "needs_background": "light"
     },
     "output_type": "display_data"
    },
    {
     "ename": "SystemExit",
     "evalue": "",
     "output_type": "error",
     "traceback": [
      "An exception has occurred, use %tb to see the full traceback.\n",
      "\u001b[0;31mSystemExit\u001b[0m\n"
     ]
    },
    {
     "name": "stderr",
     "output_type": "stream",
     "text": [
      "/home/meganmason/Documents/projects/thesis/analysis/virtual_envs/data_analysis/lib/python3.6/site-packages/IPython/core/interactiveshell.py:3304: UserWarning: To exit: use 'exit', 'quit', or Ctrl-D.\n",
      "  warn(\"To exit: use 'exit', 'quit', or Ctrl-D.\", stacklevel=1)\n"
     ]
    }
   ],
   "source": [
    "# path = '/home/meganmason/Documents/projects/thesis/data/processing_lidar/depths_3m/clipped/'\n",
    "path = '/home/meganmason/Documents/projects/thesis/data/processing_lidar/depths_3m/clipped/batch_test'\n",
    "# path = '/home/meganmason/Documents/projects/thesis/data/processing_lidar/depths_3m/clipped/20180528_clipped.tif'\n",
    "  \n",
    "    \n",
    "for f in sorted(glob.glob(os.path.join(path, '*.tif'))):\n",
    "    print(f)\n",
    "    raster = io.imread(f) #path\n",
    "    # print(\"raster shape\",raster.shape)\n",
    "\n",
    "#     io.imshow(raster[:,:,0]) #snow depth, band1\n",
    "#     io.show()\n",
    "\n",
    "    io.imshow(raster[:,:,1]) #alpha mask, band2\n",
    "    io.show()\n",
    "    \n",
    "    sys.exit()\n",
    "    \n",
    "\n",
    "    # convert to numpy array\n",
    "    array = np.array(raster[:,:,0]) #RAW array of lidar tif\n",
    "    # print(\"array shape\",array.shape)\n",
    "    \n",
    "    plt.imshow(array) \n",
    "    plt.title('array')\n",
    "    plt.colorbar()\n",
    "    plt.show()\n",
    "\n",
    "    array2 = np.array(raster[:,:,1])\n",
    "    idx = array2>0\n",
    "    \n",
    "    plt.imshow(array[idx])\n",
    "    plt.title('array indexed')\n",
    "    plt.colorbar()\n",
    "    plt.show()\n",
    "    \n",
    "    sys.exit()\n",
    "    \n",
    "    sno_mask = array.copy()\n",
    "    sno_mask[sno_mask > 0] = 1 #make SCA mask\n",
    "    \n",
    "    plt.imshow(sno_mask[array2==255]) #,alpha=None)\n",
    "    plt.title('Mask Layer (1=snow cover)')\n",
    "    plt.colorbar()\n",
    "    plt.show()  \n",
    "    \n",
    " \n",
    "               \n",
    "    #Ernesto method....\n",
    "    # a=array.copy()\n",
    "    sno_mask = array.copy()\n",
    "    idx = sno_mask > 0.001 #everything greater than 1mm of snow\n",
    "#     sno_mask[idx] = 1   #set to one\n",
    "    sno_mask[~idx] = np.nan #everything opposite of idx goes to nan\n",
    "    print(sno_mask)\n",
    "    print(idx)\n",
    "    \n",
    "#     sno_mask = np.where(array<0, np.nan)\n",
    "#     sno_mask[sno_mask > 0] = 1 #make SCA mask\n",
    "#     sno_mask = sno_mask.astype(int) #cast as int\n",
    "    \n",
    "#  #   ~~~IMSHOW~~~\n",
    "    plt.imshow(sno_mask,alpha=None)\n",
    "    plt.title('Mask Layer (1=snow cover)')\n",
    "    plt.colorbar\n",
    "    plt.show()\n",
    "\n",
    "    # meanSD -- caclulate mean snow depth (meanSD), without zero snow pixels\n",
    "#     mu_sd = np.mean(array[sno_mask][:]) #mean snow depth, from sca (SOME LIDAR HAVE NANS IN THE CLIPPED)\n",
    "    mu_sd_m = np.nanmean(sno_mask[idx])\n",
    "    print('masked mean', mu_sd_m)\n",
    "    mu_sd_a = np.nanmean(array>.001)\n",
    "    print('array mean',mu_sd_a)\n",
    "#     print(\"mean snow depth\", mu_sd,'meters')\n",
    "\n",
    "\n",
    "#     # SCA -- pixs snow cover * pixel size\n",
    "#     num_pix = np.nansum(sno_mask) #number of pixels with snow cover (sum the 1's)\n",
    "# #     print(\"number pixels with snow cover\",num_pix)\n",
    "    \n",
    "#     ras =  rasterio.open(f) #CHANGE FOR LOOP\n",
    "#     gt = ras.transform\n",
    "#     pixelSizeX = gt[0]\n",
    "#     pixelSizeY =-gt[4] #notice the -gt\n",
    "# #     print('pixel size (x,y) = ',pixelSizeX, pixelSizeY)\n",
    "\n",
    "#     sca = num_pix * pixelSizeX * pixelSizeY\n",
    "#     sca_km = sca/1000**2\n",
    "#     p_basin = sca_km/1180 *100  #per Hedrick et al. 2018\n",
    "# #     print('Snow Covered Area (SCA) = ', sca, 'm^2')\n",
    "# #     print('Snow Covered Area (SCA) = ', sca_km, 'km^2')\n",
    "# #     print('% Basin snow cover', p_basin, '%')\n",
    "    \n",
    "# #     array.close()\n",
    "# #     sno_mask.close()\n",
    "# #     ras.close()\n",
    "#     sd_lst = np.append(sd_lst,mu_sd)\n",
    "#     sc_lst = np.append(sc_lst,sca_km)\n",
    "#     pb_lst = np.append(pb_lst,p_basin)\n",
    "\n",
    "\n",
    "# df1 = pd.DataFrame(zip(sd_lst,sc_lst,pb_lst),columns = ['meanSD (m)','SCA (km)','% basin'])\n",
    "# df1\n",
    "\n",
    "    sys.exit()"
   ]
  },
  {
   "cell_type": "code",
   "execution_count": 16,
   "metadata": {},
   "outputs": [
    {
     "data": {
      "image/png": "[encoded data removed]",
      "text/plain": [
       "<Figure size 432x288 with 1 Axes>"
      ]
     },
     "metadata": {
      "needs_background": "light"
     },
     "output_type": "display_data"
    },
    {
     "name": "stdout",
     "output_type": "stream",
     "text": [
      "0.0 255.0\n",
      "(16781, 17568) (16781, 17568)\n"
     ]
    }
   ],
   "source": [
    "array2 = np.array(raster[:,:,1])\n",
    "plt.imshow(array2>0)\n",
    "# plt.colorbar()\n",
    "plt.show()\n",
    "print(np.min(array2),np.max(array2))\n",
    "print(array.shape,array2.shape)\n",
    "\n",
    "\n",
    "\n",
    "# idx = array2>0\n",
    "# plt.imshow(array[idx])\n",
    "# plt.show()\n",
    "# print(np.min(sno_mask))\n",
    "# print(np.min())"
   ]
  },
  {
   "cell_type": "code",
   "execution_count": 24,
   "metadata": {},
   "outputs": [
    {
     "name": "stdout",
     "output_type": "stream",
     "text": [
      "mean sd array 0.19228159\n"
     ]
    },
    {
     "data": {
      "image/png": "[encoded data removed]",
      "text/plain": [
       "<Figure size 432x288 with 1 Axes>"
      ]
     },
     "metadata": {
      "needs_background": "light"
     },
     "output_type": "display_data"
    },
    {
     "name": "stdout",
     "output_type": "stream",
     "text": [
      "mean sd with mask 0.19228159\n"
     ]
    }
   ],
   "source": [
    "mu=np.nanmean(array)\n",
    "print('mean sd array',mu)\n",
    "\n",
    "mas = np.zeros_like(array2)\n",
    "mas[array2==0]=1\n",
    "mas=mas.astype(bool)\n",
    "arr=array[mas]=np.nan\n",
    "plt.imshow(array)\n",
    "plt.show()\n",
    "mu_mas=np.nanmean(array)\n",
    "print('mean sd with mask',mu_mas)"
   ]
  },
  {
   "cell_type": "markdown",
   "metadata": {},
   "source": []
  },
  {
   "cell_type": "markdown",
   "metadata": {},
   "source": [
    "rasterio.mask.mask(array2,)"
   ]
  },
  {
   "cell_type": "code",
   "execution_count": null,
   "metadata": {},
   "outputs": [],
   "source": [
    "fig, a=plt.subplots(3,1)\n",
    "\n",
    "a[0].plot(df1['meanSD (m)'])\n",
    "a[1].plot(df1['SCA (km)'])\n",
    "a[2].plot(df1['% basin'])\n",
    "\n",
    "# sns.set_style('darkgrid')\n",
    "# sns.set_style(\"ticks\")\n",
    "# sns.set_context('notebook')"
   ]
  },
  {
   "cell_type": "code",
   "execution_count": null,
   "metadata": {},
   "outputs": [],
   "source": [
    "# mu_sd= []\n",
    "# sca_km= []\n",
    "# p_basin = []\n",
    "\n",
    "# foo = [1,2,3]\n",
    "# moo = [4,5,6]\n",
    "# boo = [7,8,9]\n",
    "\n",
    "# col=['f','m','b']\n",
    " \n",
    "# # big_list = [(foo,moo,boo)]\n",
    "# big_list = [(foo,moo,boo)]\n",
    "# # print(big_list)\n",
    "\n",
    "# # df1 = pd.DataFrame(big_list,columns=col)\n",
    "# df1 = pd.DataFrame(zip(foo,moo,boo),columns=col)\n",
    "# df1\n",
    "\n"
   ]
  },
  {
   "cell_type": "code",
   "execution_count": null,
   "metadata": {},
   "outputs": [],
   "source": []
  }
 ],
 "metadata": {
  "kernelspec": {
   "display_name": "Python 3",
   "language": "python",
   "name": "python3"
  },
  "language_info": {
   "codemirror_mode": {
    "name": "ipython",
    "version": 3
   },
   "file_extension": ".py",
   "mimetype": "text/x-python",
   "name": "python",
   "nbconvert_exporter": "python",
   "pygments_lexer": "ipython3",
   "version": "3.6.7"
  }
 },
 "nbformat": 4,
 "nbformat_minor": 2
}
