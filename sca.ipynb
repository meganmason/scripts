{
 "cells": [
  {
   "cell_type": "code",
   "execution_count": 1,
   "metadata": {},
   "outputs": [],
   "source": [
    "%matplotlib inline \n",
    "\n",
    "import os\n",
    "import glob\n",
    "import numpy as np\n",
    "import pandas as pd\n",
    "from skimage import io \n",
    "import rasterio\n",
    "import subprocess as sp\n",
    "import matplotlib\n",
    "import matplotlib.pyplot as plt"
   ]
  },
  {
   "cell_type": "code",
   "execution_count": 2,
   "metadata": {},
   "outputs": [
    {
     "name": "stdout",
     "output_type": "stream",
     "text": [
      "raster shape (16781, 17568, 2)\n"
     ]
    }
   ],
   "source": [
    "# path = '/home/meganmason/Documents/projects/thesis/data/processing_lidar/depths_3m/clipped/'\n",
    "path = '/home/meganmason/Documents/projects/thesis/data/processing_lidar/depths_3m/clipped/20170401_clipped.tif'\n",
    "\n",
    "# for f in sorted(glob.glob(os.path.join(path,'*.tif'))):\n",
    "raster = io.imread(path)\n",
    "print(\"raster shape\",raster.shape)\n",
    "# io.imshow(raster[:,:,0]) #snow depth, band1\n",
    "# io.show()\n",
    "\n",
    "# io.imshow(raster[:,:,1]) #alpha mask, band2\n",
    "# io.show()\n",
    "           "
   ]
  },
  {
   "cell_type": "code",
   "execution_count": 3,
   "metadata": {},
   "outputs": [
    {
     "name": "stdout",
     "output_type": "stream",
     "text": [
      "array shape (16781, 17568)\n"
     ]
    }
   ],
   "source": [
    "# convert to numpy array\n",
    "array = np.array(raster[:,:,0]) #RAW array of lidar tif\n",
    "print(\"array shape\",array.shape)"
   ]
  },
  {
   "cell_type": "code",
   "execution_count": 12,
   "metadata": {},
   "outputs": [
    {
     "data": {
      "image/png": "[encoded data removed]",
      "text/plain": [
       "<Figure size 432x288 with 1 Axes>"
      ]
     },
     "metadata": {
      "needs_background": "light"
     },
     "output_type": "display_data"
    },
    {
     "name": "stdout",
     "output_type": "stream",
     "text": [
      "mean snow depth 0.37557194 meters\n",
      "number pixels with snow cover 110721840.0\n",
      "pixel size (x,y) =  2.9999758808137633 2.9999666816697763\n",
      "Snow Covered Area (SCA) =  996477481.3264548 m^2\n",
      "Snow Covered Area (SCA) =  996.4774813264547 km^2\n",
      "% Basin snow cover 84.44724418020803 %\n"
     ]
    }
   ],
   "source": [
    "#Ernesto method....\n",
    "# a=array.copy()\n",
    "sno_mask = array.copy()\n",
    "sno_mask[sno_mask > 0] = 1 #make SCA mask\n",
    "\n",
    "#sno_mask is matrix of 0 (no snow) and 1's (snow)\n",
    "plt.imshow(sno_mask,alpha=None)\n",
    "plt.title('Mask Layer (1=snow cover)')\n",
    "plt.show()\n",
    "\n",
    "# meanSD -- caclulate mean snow depth (meanSD), without zero snow pixels\n",
    "mu_sd = np.mean(sno_mask) #mean snow depth, from sca \n",
    "print(\"mean snow depth\", mu_sd,'meters')\n",
    "\n",
    "\n",
    "# SCA -- pixs snow cover * pixel size\n",
    "num_pix = np.sum(sno_mask) #number of pixels with snow cover (sum the 1's)\n",
    "print(\"number pixels with snow cover\",num_pix)\n",
    "\n",
    "ras =  rasterio.open(path) #CHAGE FOR LOOP\n",
    "gt = ras.transform\n",
    "pixelSizeX = gt[0]\n",
    "pixelSizeY =-gt[4] #notice the -gt\n",
    "print('pixel size (x,y) = ',pixelSizeX, pixelSizeY)\n",
    "\n",
    "sca = num_pix * pixelSizeX * pixelSizeY\n",
    "sca_km = sca/1000**2\n",
    "p_basin = sca_km/1180 *100  #per Hedrick et al. 2018\n",
    "print('Snow Covered Area (SCA) = ', sca, 'm^2')\n",
    "print('Snow Covered Area (SCA) = ', sca_km, 'km^2')\n",
    "print('% Basin snow cover', p_basin, '%')"
   ]
  },
  {
   "cell_type": "code",
   "execution_count": 13,
   "metadata": {},
   "outputs": [
    {
     "data": {
      "text/html": [
       "<div>\n",
       "<style scoped>\n",
       "    .dataframe tbody tr th:only-of-type {\n",
       "        vertical-align: middle;\n",
       "    }\n",
       "\n",
       "    .dataframe tbody tr th {\n",
       "        vertical-align: top;\n",
       "    }\n",
       "\n",
       "    .dataframe thead th {\n",
       "        text-align: right;\n",
       "    }\n",
       "</style>\n",
       "<table border=\"1\" class=\"dataframe\">\n",
       "  <thead>\n",
       "    <tr style=\"text-align: right;\">\n",
       "      <th></th>\n",
       "      <th>meanSD</th>\n",
       "      <th>SCA (km)</th>\n",
       "      <th>% basin</th>\n",
       "    </tr>\n",
       "  </thead>\n",
       "  <tbody>\n",
       "    <tr>\n",
       "      <th>0</th>\n",
       "      <td>0.375572</td>\n",
       "      <td>996.477481</td>\n",
       "      <td>84.447244</td>\n",
       "    </tr>\n",
       "  </tbody>\n",
       "</table>\n",
       "</div>"
      ],
      "text/plain": [
       "     meanSD    SCA (km)    % basin\n",
       "0  0.375572  996.477481  84.447244"
      ]
     },
     "execution_count": 13,
     "metadata": {},
     "output_type": "execute_result"
    }
   ],
   "source": [
    "pd.DataFrame(np.array([[mu_sd, sca_km, p_basin]]),columns=['meanSD','SCA (km)','% basin'])\n"
   ]
  },
  {
   "cell_type": "code",
   "execution_count": null,
   "metadata": {},
   "outputs": [],
   "source": []
  }
 ],
 "metadata": {
  "kernelspec": {
   "display_name": "Python 3",
   "language": "python",
   "name": "python3"
  },
  "language_info": {
   "codemirror_mode": {
    "name": "ipython",
    "version": 3
   },
   "file_extension": ".py",
   "mimetype": "text/x-python",
   "name": "python",
   "nbconvert_exporter": "python",
   "pygments_lexer": "ipython3",
   "version": "3.6.7"
  }
 },
 "nbformat": 4,
 "nbformat_minor": 2
}
