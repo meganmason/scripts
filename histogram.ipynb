{
 "cells": [
  {
   "cell_type": "code",
   "execution_count": 1,
   "metadata": {},
   "outputs": [],
   "source": [
    "%matplotlib inline \n",
    "\n",
    "import os\n",
    "import glob\n",
    "import numpy as np\n",
    "import pandas as pd\n",
    "from skimage import io \n",
    "import rasterio\n",
    "from rasterio.plot import show_hist\n",
    "import subprocess as sp\n",
    "import matplotlib\n",
    "import matplotlib.pyplot as plt\n",
    "import seaborn as sns\n",
    "import sys\n",
    "import datetime\n"
   ]
  },
  {
   "cell_type": "code",
   "execution_count": 2,
   "metadata": {},
   "outputs": [
    {
     "name": "stdout",
     "output_type": "stream",
     "text": [
      "0 /home/meganmason/Documents/projects/thesis/data/processing_lidar/depths_3m/clipped/peak/20130403_clipped.tif\n",
      "1 /home/meganmason/Documents/projects/thesis/data/processing_lidar/depths_3m/clipped/peak/20140407_clipped.tif\n",
      "2 /home/meganmason/Documents/projects/thesis/data/processing_lidar/depths_3m/clipped/peak/20150415_clipped.tif\n",
      "3 /home/meganmason/Documents/projects/thesis/data/processing_lidar/depths_3m/clipped/peak/20160401_clipped.tif\n",
      "4 /home/meganmason/Documents/projects/thesis/data/processing_lidar/depths_3m/clipped/peak/20170303_clipped.tif\n",
      "5 /home/meganmason/Documents/projects/thesis/data/processing_lidar/depths_3m/clipped/peak/20180423_clipped.tif\n"
     ]
    }
   ],
   "source": [
    "#list of files\n",
    "path = '/home/meganmason/Documents/projects/thesis/data/processing_lidar/depths_3m/clipped/peak/'\n",
    "\n",
    "flist = glob.glob(path + '/*.tif')\n",
    "for i,f in enumerate(sorted(flist)):\n",
    "    print(i,f)    "
   ]
  },
  {
   "cell_type": "code",
   "execution_count": 5,
   "metadata": {},
   "outputs": [
    {
     "name": "stdout",
     "output_type": "stream",
     "text": [
      "size (16781, 17568)\n",
      "size (16781, 17568)\n",
      "size (16781, 17568)\n",
      "size (16781, 17568)\n"
     ]
    },
    {
     "name": "stderr",
     "output_type": "stream",
     "text": [
      "/home/meganmason/Documents/projects/thesis/analysis/virtual_envs/data_analysis/lib/python3.6/site-packages/numpy/lib/function_base.py:3405: RuntimeWarning: Invalid value encountered in median\n",
      "  r = func(a, **kwargs)\n"
     ]
    },
    {
     "name": "stdout",
     "output_type": "stream",
     "text": [
      "size (16781, 17568)\n",
      "size (16781, 17568)\n"
     ]
    }
   ],
   "source": [
    "#NOTE -- clipped files have 2 Bands: (1) snow depth 2) mask of tuolumne shapefile\n",
    "\n",
    "stats=[]\n",
    "\n",
    "for f in sorted(flist):\n",
    "    im = rasterio.open(f, 'r')\n",
    "    a = im.read(1) #band1 has snow depth data\n",
    "    print('size', a.shape)\n",
    "    stats.append({\n",
    "        'file':    f.split('/')[-1],\n",
    "        'min':     a.min(),\n",
    "        'max':     a.max(),\n",
    "        'mean':    a.mean(),\n",
    "        'median':  np.median(a)\n",
    "    })\n",
    "    \n",
    "# stats\n",
    "\n",
    "#Result -- \n",
    "    #2016 - has NANs and stripping through lidar\n",
    "    #2018 - area outside (and more?) of tuolumne has -9999"
   ]
  },
  {
   "cell_type": "code",
   "execution_count": null,
   "metadata": {},
   "outputs": [],
   "source": [
    "# ## THIS WORKS....but above does same!!\n",
    "\n",
    "# # Raster Stats (#add pixel size??)\n",
    "# path = '/home/meganmason/Documents/projects/thesis/data/processing_lidar/depths_3m/clipped/peak/'\n",
    "# stats =[]\n",
    "\n",
    "# for i,f in enumerate(sorted(glob.glob(os.path.join(path, '*.tif')))):\n",
    "#     print(f)\n",
    "#     im = rasterio.open(f, 'r')\n",
    "#     a = im.read(1)\n",
    "# #     print(a)\n",
    "#     stats.append({\n",
    "#         'date':    i,\n",
    "#         'min':     a.min(),\n",
    "#         'max':     a.max(),\n",
    "#         'mean':    a.mean(),\n",
    "#         'median':  np.median(a)\n",
    "#     })\n",
    "    \n",
    "# stats"
   ]
  },
  {
   "cell_type": "code",
   "execution_count": null,
   "metadata": {},
   "outputs": [],
   "source": [
    "#TEMPLATE ON SUBPLOTS\n",
    "\n",
    "start = 2013\n",
    "end = 2018\n",
    "yrs = range(start, end+1)\n",
    "z=0\n",
    "\n",
    "fig,axs=plt.subplots(2,3, figsize=(15,10)) \n",
    "\n",
    "ax = axs.flat #counting plots\n",
    "\n",
    "\n",
    "for i,f in enumerate(sorted(flist)):\n",
    "#     print(f)\n",
    "\n",
    "    ''' open Tuolumne shapefile '''\n",
    "    \n",
    "    with fiona.open(shp, \"r\") as shapefile:\n",
    "        geoms = [feature[\"geometry\"] for feature in shapefile]\n",
    "        \n",
    "    ''' open lidar tifs\n",
    "        crops to shapefile\n",
    "        makes no data NANs '''\n",
    "\n",
    "    with rasterio.open(f) as src:\n",
    "        out_image, out_transform = rasterio.mask.mask(src, geoms, crop=True, nodata=np.nan)\n",
    "#         out_meta = src.meta.copy()\n",
    "\n",
    "\n",
    "\n",
    "    ''' plot settings'''\n",
    "        \n",
    "    im = ax[i].imshow(out_image[0,:,:], cmap='Blues', vmax=15) #15 meters max on colorbar\n",
    "\n",
    "    ax[i].set_title('{}'.format(yrs[z]))\n",
    "    \n",
    "    z+=1\n",
    "    \n",
    "cb = fig.colorbar(im, ax=list(axs))\n",
    "cb.set_label('Snow Depth [m]')\n",
    "# plt.tight_layout()\n",
    "plt.show()"
   ]
  },
  {
   "cell_type": "code",
   "execution_count": null,
   "metadata": {},
   "outputs": [],
   "source": [
    "# Clean Data (Raster to numpy)\n",
    "\n",
    "plt.figure(figsize = (15, 10))\n",
    "# i_plot = 1\n",
    "for f in sorted(flist):\n",
    "    im = rasterio.open(f, 'r')\n",
    "    a = im.read(1)\n",
    "#     a = a.astype('float') #dont need this, values are already floats.....\n",
    "    idx = a>0.001\n",
    "    a[~idx] = np.nan\n",
    "#     ax = plt.subplot(2,3,i_plot)\n",
    "    plt.imshow(a, cmap ='rainbow')\n",
    "    plt.colorbar()\n",
    "    \n",
    "    \n",
    "#     show_hist(a,bins=25)\n",
    "#     plt.show()\n",
    "    \n",
    "#     i_plot +=1\n",
    "    \n",
    "    plt.show()"
   ]
  },
  {
   "cell_type": "code",
   "execution_count": null,
   "metadata": {},
   "outputs": [],
   "source": [
    "# # Clean Data (Raster to numpy)\n",
    "# fig, axs = plt.subplots(3,2, figsize=(5, 5), facecolor='w', edgecolor='k')\n",
    "# fig.subplots_adjust(hspace = .5, wspace=.01)\n",
    "\n",
    "# axs = axs.ravel()\n",
    "\n",
    "# for f in sorted(flist):\n",
    "#     im = rasterio.open(f, 'r')\n",
    "#     a = im.read(1)\n",
    "# #     a = a.astype('float') #dont need this, values are already floats.....\n",
    "#     idx = a>0.001\n",
    "#     a[~idx] = np.nan\n",
    "    \n",
    "    \n",
    "    \n",
    "#     plt.imshow(a, cmap ='rainbow')\n",
    "#     plt.colorbar()\n",
    "#     plt.show()"
   ]
  },
  {
   "cell_type": "code",
   "execution_count": null,
   "metadata": {},
   "outputs": [],
   "source": [
    "# path = '/home/meganmason/Documents/projects/thesis/data/processing_lidar/depths_3m/clipped/peak'\n",
    "path = '/home/meganmason/Documents/projects/thesis/data/processing_lidar/depths_3m/clipped/peak/20150415_clipped.tif'\n",
    "\n",
    "\n",
    "fig = plt.figure(figsize=(20,8))\n",
    "im = rasterio.open(path, 'r')\n",
    "f = im.read(1)\n",
    "show_hist(f,bins=30)\n",
    "plt.show()\n",
    "\n",
    "\n",
    "\n",
    "\n",
    "# # raster = io.imread(f) #path\n",
    "\n",
    "# # f = rasterio.open(path, 'r')\n",
    "# # arr = f.read(1)\n",
    "# # print(type(arr))\n",
    "# # idx=arr>0.001\n",
    "# # print(arr.shape,arr[idx].shape)\n",
    "# # # arr = arr[idx]\n",
    "# # # print(arr.shape)\n",
    "# # plt.imshow(arr[idx], cmap='pink')\n",
    "# # plt.colorbar()\n",
    "# # plt.show()\n",
    "\n",
    "# fig = plt.figure(figsize=(20,8))\n",
    "# im = rasterio.open(path, 'r')\n",
    "# # print(im.meta)\n",
    "# f = im.read(1)\n",
    "# # m1=np.min(f)\n",
    "# # m2=np.max(f)\n",
    "# # print(m1,m2)\n",
    "# # print('f',f.shape)\n",
    "# ff=f>0.001\n",
    "# # mi=np.min(ff)\n",
    "# # mx=np.max(ff)\n",
    "# # print(mi,mx)\n",
    "# plt.imshow(ff)\n",
    "# # # plt.colorbar()\n",
    "# plt.show()\n",
    "# # print('ff',ff.shape)\n",
    "# # # idx = f>0.001\n",
    "# # # f = img.read(1)\n",
    "# # # print(type(f))\n",
    "# # # print(f)\n",
    "# # # print(f.shape)\n",
    "# # # idx = f>0.001\n",
    "# # # f_= f[idx]\n",
    "# # # print(np.min(f))\n",
    "# # # print(np.max(f))\n",
    "# # # plt.imshow(f[idx].read(1), cmap='pink')\n",
    "# # # plt.colorbar()\n",
    "# # # plt.show()\n",
    "\n",
    "# show_hist(ff,bins=30)\n",
    "# plt.show()\n",
    "# # # # print('done')\n"
   ]
  },
  {
   "cell_type": "code",
   "execution_count": null,
   "metadata": {},
   "outputs": [],
   "source": []
  },
  {
   "cell_type": "code",
   "execution_count": null,
   "metadata": {},
   "outputs": [],
   "source": []
  }
 ],
 "metadata": {
  "kernelspec": {
   "display_name": "Python 3",
   "language": "python",
   "name": "python3"
  },
  "language_info": {
   "codemirror_mode": {
    "name": "ipython",
    "version": 3
   },
   "file_extension": ".py",
   "mimetype": "text/x-python",
   "name": "python",
   "nbconvert_exporter": "python",
   "pygments_lexer": "ipython3",
   "version": "3.6.7"
  }
 },
 "nbformat": 4,
 "nbformat_minor": 2
}
