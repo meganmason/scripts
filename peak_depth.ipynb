{
 "cells": [
  {
   "cell_type": "code",
   "execution_count": 1,
   "metadata": {},
   "outputs": [],
   "source": [
    "%matplotlib inline \n",
    "\n",
    "import os\n",
    "import glob\n",
    "from netCDF4 import Dataset\n",
    "import numpy as np\n",
    "import pandas as pd\n",
    "from skimage import io \n",
    "import subprocess as sp\n",
    "# import geopandas as gdp\n",
    "# from PIL import Image #Pillow\n",
    "import matplotlib\n",
    "import matplotlib.pyplot as plt\n",
    "# import imageio\n",
    "# import visvis as vv"
   ]
  },
  {
   "cell_type": "markdown",
   "metadata": {},
   "source": [
    "## ASO lidar data (2013-2018)"
   ]
  },
  {
   "cell_type": "markdown",
   "metadata": {},
   "source": [
    "### Import data"
   ]
  },
  {
   "cell_type": "code",
   "execution_count": 7,
   "metadata": {},
   "outputs": [
    {
     "name": "stdout",
     "output_type": "stream",
     "text": [
      "/home/meganmason/Documents/projects/thesis/data/processing_lidar/depths_3m/2013/TB20130403_SUPERsnow_depth_3p0m.tif\n",
      "/home/meganmason/Documents/projects/thesis/data/processing_lidar/depths_3m/{}/*.tif\n",
      "/home/meganmason/Documents/projects/thesis/data/processing_lidar/depths_3m/2013/TB20130429_SUPERsnow_depth_3p0m.tif\n",
      "/home/meganmason/Documents/projects/thesis/data/processing_lidar/depths_3m/{}/*.tif\n",
      "/home/meganmason/Documents/projects/thesis/data/processing_lidar/depths_3m/2013/TB20130503_SUPERsnow_depth_3p0m.tif\n",
      "/home/meganmason/Documents/projects/thesis/data/processing_lidar/depths_3m/{}/*.tif\n",
      "/home/meganmason/Documents/projects/thesis/data/processing_lidar/depths_3m/2013/TB20130525_SUPERsnow_depth_3p0m.tif\n",
      "/home/meganmason/Documents/projects/thesis/data/processing_lidar/depths_3m/{}/*.tif\n",
      "/home/meganmason/Documents/projects/thesis/data/processing_lidar/depths_3m/2013/TB20130601_SUPERsnow_depth_3p0m.tif\n",
      "/home/meganmason/Documents/projects/thesis/data/processing_lidar/depths_3m/{}/*.tif\n",
      "/home/meganmason/Documents/projects/thesis/data/processing_lidar/depths_3m/2013/TB20130608_SUPERsnow_depth_3p0m.tif\n",
      "/home/meganmason/Documents/projects/thesis/data/processing_lidar/depths_3m/{}/*.tif\n"
     ]
    }
   ],
   "source": [
    "basepath = '/home/meganmason/Documents/projects/thesis/data/processing_lidar/depths_3m/{}/*.tif'\n",
    "start = 2013\n",
    "end = 2018\n",
    "\n",
    "endTest= 2014\n",
    "\n",
    "\n",
    "for year in range(start, endTest):#end+1\n",
    "    flist = glob.glob(basepath.format(year))\n",
    "#     print(flist)\n",
    "    for f in sorted(flist):\n",
    "        print(f)\n",
    "#         break   "
   ]
  },
  {
   "cell_type": "markdown",
   "metadata": {},
   "source": [
    "### Raster to numpy array"
   ]
  },
  {
   "cell_type": "code",
   "execution_count": 5,
   "metadata": {},
   "outputs": [
    {
     "name": "stdout",
     "output_type": "stream",
     "text": [
      "/home/meganmason/Documents/projects/thesis/data/processing_lidar/depths_3m/2013/TB20130608_SUPERsnow_depth_3p0m.tif\n",
      "raster shape (16780, 17699)\n",
      "array shape (16780, 17699)\n"
     ]
    }
   ],
   "source": [
    "        print(f)\n",
    "    # read tif\n",
    "        raster = io.imread(f)\n",
    "        ix = raster<=0\n",
    "        raster[ix]=np.nan\n",
    "#         io.imshow(raster>=0 , cmap='coolwarm' + \"_r\") \n",
    "#         io.show()\n",
    "        print(\"raster shape\",raster.shape)\n",
    "        \n",
    "        # convert to numpy array\n",
    "        array = np.array(raster) #RAW array of lidar tif\n",
    "        print(\"array shape\",array.shape)\n"
   ]
  },
  {
   "cell_type": "markdown",
   "metadata": {},
   "source": [
    "### Clip to Tuolumne Basin"
   ]
  },
  {
   "cell_type": "code",
   "execution_count": 8,
   "metadata": {},
   "outputs": [
    {
     "ename": "SyntaxError",
     "evalue": "invalid syntax (<ipython-input-8-c2de3e6453e6>, line 8)",
     "output_type": "error",
     "traceback": [
      "\u001b[0;36m  File \u001b[0;32m\"<ipython-input-8-c2de3e6453e6>\"\u001b[0;36m, line \u001b[0;32m8\u001b[0m\n\u001b[0;31m    gdalwarp -of GTiff -dstalpha -cutline ~/Documents/projects/thesis/maps/map_layers/tuolumne_delineation/corrected_tuolumne_subbasin.shp  \\\u001b[0m\n\u001b[0m                     ^\u001b[0m\n\u001b[0;31mSyntaxError\u001b[0m\u001b[0;31m:\u001b[0m invalid syntax\n"
     ]
    }
   ],
   "source": [
    "#copy array\n",
    "a = array.copy()\n",
    "print(a)\n",
    "\n",
    "sp.check_output(\"gdalwarp -of GTiff -dstalpha -cutline {} -crop_to_cutline {} {}\".format(shp, tif_to_clip, clipped_output),shell=True)\n",
    "\n",
    "\n",
    "gdalwarp -of GTiff -dstalpha -cutline ~/Documents/projects/thesis/maps/map_layers/tuolumne_delineation/corrected_tuolumne_subbasin.shp  \\\n",
    "-crop_to_cutline ~/Documents/projects/thesis/data/processing_lidar/depths_3m/temp/TE20170604_SUPERsnow_depth_3p0m.tif \\\n",
    "clipped_test.tif"
   ]
  },
  {
   "cell_type": "markdown",
   "metadata": {},
   "source": [
    "### Snow Covered Area"
   ]
  },
  {
   "cell_type": "code",
   "execution_count": null,
   "metadata": {},
   "outputs": [],
   "source": [
    "#copy array\n",
    "a = array.copy()\n",
    "print(a)\n",
    "\n",
    "# #mask SCA (boolean)\n",
    "a[a > 0] = 1 #make SCA mask\n",
    "plt.imshow(a)\n",
    "plt.title('Mask Layer (1=snow cover)')\n",
    "\n",
    "plt.show()\n",
    "\n"
   ]
  },
  {
   "cell_type": "code",
   "execution_count": null,
   "metadata": {},
   "outputs": [],
   "source": [
    "\n",
    "\n",
    "#clip to Tuolumne shapefile\n",
    "shp = '/home/meganmason/Documents/projects/thesis/maps/map_layers/tuolumne_delineation/corrected_tuolumne_subbasin.shp'\n",
    "\n",
    "\n",
    "df1 = #lidar data\n",
    "df2 = #Tuolumne shapefile\n",
    "\n",
    "slp = gpd.overlay(df1, df2, how='intersection')"
   ]
  },
  {
   "cell_type": "code",
   "execution_count": null,
   "metadata": {},
   "outputs": [],
   "source": [
    "#shapefile to clip with\n",
    "#/home/meganmason/Documents/projects/thesis/maps/map_layers/tuolumne_delineation/corrected_tuolumne_subbasin.shp"
   ]
  }
 ],
 "metadata": {
  "kernelspec": {
   "display_name": "Python 3",
   "language": "python",
   "name": "python3"
  },
  "language_info": {
   "codemirror_mode": {
    "name": "ipython",
    "version": 3
   },
   "file_extension": ".py",
   "mimetype": "text/x-python",
   "name": "python",
   "nbconvert_exporter": "python",
   "pygments_lexer": "ipython3",
   "version": "3.6.7"
  }
 },
 "nbformat": 4,
 "nbformat_minor": 2
}
