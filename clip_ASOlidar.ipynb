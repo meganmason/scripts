{
 "cells": [
  {
   "cell_type": "markdown",
   "metadata": {},
   "source": [
    "## **THIS SCRIPT: clips ASO lidar tifs to Tuolumne subbasin shapefile** \n",
    "### *NOTE: uncomment sp.check_output line to regenerate clipped files*\n",
    "##### Author: Megan Mason 5-30-2019"
   ]
  },
  {
   "cell_type": "code",
   "execution_count": 1,
   "metadata": {},
   "outputs": [],
   "source": [
    "%matplotlib inline \n",
    "\n",
    "import os\n",
    "import glob\n",
    "import numpy as np\n",
    "# import pandas as pd\n",
    "from skimage import io \n",
    "import subprocess as sp\n",
    "# import matplotlib\n",
    "# import matplotlib.pyplot as plt"
   ]
  },
  {
   "cell_type": "markdown",
   "metadata": {},
   "source": [
    "#### Body "
   ]
  },
  {
   "cell_type": "code",
   "execution_count": 8,
   "metadata": {},
   "outputs": [],
   "source": [
    "#user defined path:\n",
    "path = '/home/meganmason/Documents/projects/thesis/data/processing_lidar/depths_3m/{}/*.tif'\n",
    "start = 2013\n",
    "end = 2018\n",
    "\n",
    "\n",
    "#shapefile - corrected Tuolumne subasin\n",
    "shp = '/home/meganmason/Documents/projects/thesis/maps/map_layers/tuolumne_delineation/corrected_tuolumne_subbasin.shp'\n",
    "\n",
    "# output - put output here:\n",
    "out_path = '/home/meganmason/Documents/projects/thesis/data/processing_lidar/depths_3m/clipped/'\n",
    "\n",
    "\n",
    "for year in range(start, end+1): #loops each year\n",
    "    flist = glob.glob(path.format(year)) #list of every tif file\n",
    "    for f in sorted(flist): #f is each lidar tif\n",
    " \n",
    "        #parses lidar data\n",
    "        dt_str = f.split(\"/\")[-1] #splits on / and saves the last one\n",
    "        dt_str = \"\".join([c for c in dt_str if c.isnumeric()]) #grabs numeric values\n",
    "        dt_str = dt_str[:8] #HARD CODE (but works!)...grabs just yyyymmdd and not the numbers in 3p0m.tif\n",
    "\n",
    "        #names output file\n",
    "        out_fname = out_path + dt_str + '_clipped' + '.tif'\n",
    "\n",
    "        #clips with gdal in terminal\n",
    "#         sp.check_output(\"gdalwarp -of GTiff -dstalpha -cutline {} -crop_to_cutline {} {}\".format(shp, f, out_fname),shell=True)\n",
    "\n",
    "   #THOUGHTS\n",
    "    #subplot of years horizontal (or vert) to show each clipped. \n",
    "    #fig,axes =plt.subplots(len(year), 1)"
   ]
  },
  {
   "cell_type": "code",
   "execution_count": null,
   "metadata": {},
   "outputs": [],
   "source": []
  }
 ],
 "metadata": {
  "kernelspec": {
   "display_name": "Python 3",
   "language": "python",
   "name": "python3"
  },
  "language_info": {
   "codemirror_mode": {
    "name": "ipython",
    "version": 3
   },
   "file_extension": ".py",
   "mimetype": "text/x-python",
   "name": "python",
   "nbconvert_exporter": "python",
   "pygments_lexer": "ipython3",
   "version": "3.6.7"
  }
 },
 "nbformat": 4,
 "nbformat_minor": 2
}
