{
 "cells": [
  {
   "cell_type": "code",
   "execution_count": 2,
   "metadata": {},
   "outputs": [],
   "source": [
    "%matplotlib inline \n",
    "\n",
    "import os\n",
    "import glob\n",
    "import numpy as np\n",
    "import pandas as pd\n",
    "# from skimage import io \n",
    "import rasterio\n",
    "import fiona\n",
    "import rasterio.mask\n",
    "from rasterio.plot import show_hist\n",
    "# import subprocess as sp\n",
    "import matplotlib as mpl\n",
    "import matplotlib.pyplot as plt\n",
    "import sys\n",
    "import datetime\n",
    "\n",
    "import fiona\n",
    "import rasterio\n",
    "import rasterio.mask\n",
    "import rasterio.plot\n",
    "from descartes import PolygonPatch\n",
    "import geopandas as gpd\n"
   ]
  },
  {
   "cell_type": "code",
   "execution_count": 3,
   "metadata": {},
   "outputs": [],
   "source": [
    "# paths\n",
    "path = '/home/meganmason/Documents/projects/thesis/data/processing_lidar/depths_3m/peak_sd'\n",
    "shp = '/home/meganmason/Documents/projects/thesis/maps/map_layers/tuolumne_delineation/corrected_tuolumne_subbasin.shp'"
   ]
  },
  {
   "cell_type": "code",
   "execution_count": 10,
   "metadata": {},
   "outputs": [
    {
     "name": "stdout",
     "output_type": "stream",
     "text": [
      "2013 (1, 16780, 17489)\n",
      "2014 (1, 16780, 17489)\n",
      "2015 (1, 16780, 17489)\n",
      "2016 (1, 16782, 17569)\n",
      "2017 (1, 16782, 17569)\n",
      "2018 (1, 16782, 17569)\n"
     ]
    }
   ],
   "source": [
    "# clip raw lidar to Tuolumne shapefile, rasterio\n",
    "\n",
    "start = 2013\n",
    "end = 2018\n",
    "yrs = range(start, end+1)\n",
    "z=0\n",
    "\n",
    "\n",
    "\n",
    "flist = glob.glob(path + '/*.tif')\n",
    "\n",
    "\n",
    "for i,f in enumerate(sorted(flist)):\n",
    "#     print(i,f)    \n",
    "    \n",
    "    out_image = np.empty([1,16780,17489])\n",
    "\n",
    "    ''' open Tuolumne shapefile '''\n",
    "    with fiona.open(shp, \"r\") as shapefile:\n",
    "        geoms = [feature[\"geometry\"] for feature in shapefile]\n",
    "        \n",
    "        \n",
    "    ''' open lidar tifs\n",
    "        crops to shapefile\n",
    "        makes no data NANs '''\n",
    "    with rasterio.open(f) as src:\n",
    "        out_image, out_transform = rasterio.mask.mask(src, geoms, crop=True, nodata=np.nan) #, out_transform\n",
    "        out_meta = src.meta.copy()\n",
    "\n",
    "    out_meta.update({\"driver\": \"GTiff\",\n",
    "                     \"height\": out_image.shape[1],\n",
    "                     \"width\": out_image.shape[2],\n",
    "                     \"transform\": out_transform})\n",
    "    \n",
    "    \n",
    "    ''' update meta data on cropped tifs '''\n",
    "    with rasterio.open(\"tmp_out/mask.tif\", \"w\", **out_meta) as dest:\n",
    "        dest.write(out_image)\n",
    "\n",
    "    ''' plot settings '''    \n",
    "#     plt.imshow(out_image[0,:,:], cmap='Blues')\n",
    "#     plt.show()\n",
    "\n",
    "#     print(type(out_image[i]))\n",
    "    print('{}'.format(yrs[z]), out_image.shape)\n",
    "#     print('{}'.format(yrs[z]), type(out_transform))\n",
    "    np.save('tmp_out/arr_{}.tif'.format(yrs[z]), out_image)\n",
    "\n",
    "    z+=1\n",
    "    "
   ]
  },
  {
   "cell_type": "code",
   "execution_count": 4,
   "metadata": {},
   "outputs": [],
   "source": [
    "# import random\n",
    "\n",
    "# tmp = np.empty([3,4,4])\n",
    "# print(type(tmp))\n",
    "# # tmp = []\n",
    "\n",
    "# for ix, item in enumerate(range(3)): \n",
    "#     print(item)\n",
    "#     a = np.random.randn(3,4,4)\n",
    "#     mask = np.random.choice([1, 0], a.shape, p=[.1, .9]).astype(bool)\n",
    "#     a[mask] = np.nan\n",
    "#     # print(a)\n",
    "#     tmp = np.append(tmp[ix,:,:], a)\n",
    "    \n",
    "# print(tmp.shape)\n",
    "# print(tmp)\n",
    "\n",
    "# # test = \n",
    "\n",
    "# # for val in tmp: \n",
    "# # #     print(val)\n",
    "# #     arr = np.append(a, np)\n",
    "\n",
    "# # lst = []\n",
    "# # for item in data: \n"
   ]
  },
  {
   "cell_type": "code",
   "execution_count": 5,
   "metadata": {},
   "outputs": [],
   "source": [
    "# t = np.empty([3,4,4])\n",
    "\n",
    "# arr=np.random.rand(1,4,4)\n",
    "\n",
    "\n",
    "# a = np.array((1,2,3))\n",
    "# b = np.array((2,3,4))\n",
    "# np.dstack((a,b))"
   ]
  },
  {
   "cell_type": "code",
   "execution_count": null,
   "metadata": {},
   "outputs": [],
   "source": []
  }
 ],
 "metadata": {
  "kernelspec": {
   "display_name": "Python 3",
   "language": "python",
   "name": "python3"
  },
  "language_info": {
   "codemirror_mode": {
    "name": "ipython",
    "version": 3
   },
   "file_extension": ".py",
   "mimetype": "text/x-python",
   "name": "python",
   "nbconvert_exporter": "python",
   "pygments_lexer": "ipython3",
   "version": "3.6.7"
  }
 },
 "nbformat": 4,
 "nbformat_minor": 2
}
