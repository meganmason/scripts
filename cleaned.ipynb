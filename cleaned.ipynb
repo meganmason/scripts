{
 "cells": [
  {
   "cell_type": "code",
   "execution_count": 2,
   "metadata": {},
   "outputs": [],
   "source": [
    "%matplotlib inline \n",
    "\n",
    "import os\n",
    "import glob\n",
    "import numpy as np\n",
    "import pandas as pd\n",
    "import matplotlib.pyplot as plt\n",
    "import sys\n",
    "import datetime"
   ]
  },
  {
   "cell_type": "code",
   "execution_count": 3,
   "metadata": {},
   "outputs": [],
   "source": [
    "# path_ = '/home/meganmason/Documents/projects/thesis/analysis/scripts/tmp_out/' # ernesto's copy (published stuff)\n",
    "# flist = glob.glob(path_ + '/*.npy')\n",
    "\n",
    "# for f in sorted(flist):\n",
    "# #     print(f)\n",
    "#     d=np.load(f)\n",
    "#     print(np.nanmean(d), np.nanmax(d), np.nanmin(d))"
   ]
  },
  {
   "cell_type": "code",
   "execution_count": 4,
   "metadata": {},
   "outputs": [
    {
     "name": "stdout",
     "output_type": "stream",
     "text": [
      "done\n"
     ]
    }
   ],
   "source": [
    "path = '/home/meganmason/Documents/projects/thesis/data/processing_lidar/depths_3m/peak_sd/clean/' #snow server\n",
    "flist = glob.glob(path + '/*.npy')\n",
    "stats = []\n",
    "a = [6,5,7]\n",
    "\n",
    "for f in sorted(flist):\n",
    "#     print(f)\n",
    "    d=np.load(f)\n",
    "    stats.append({\n",
    "        'min':     np.nanmin(d),\n",
    "        'max':     np.nanmax(d),\n",
    "        'mean':    np.nanmean(d),\n",
    "        'median':  np.nanmedian(d)\n",
    "    }) \n",
    "a    \n",
    "stats\n",
    "print('done')"
   ]
  },
  {
   "cell_type": "code",
   "execution_count": 5,
   "metadata": {},
   "outputs": [
    {
     "data": {
      "text/plain": [
       "[{'min': 0.0, 'max': 24.419975, 'mean': 1.036388, 'median': 0.94316953},\n",
       " {'min': 0.0, 'max': 6.9999943, 'mean': 0.8322011, 'median': 0.70873463},\n",
       " {'min': 0.0, 'max': 6.9985723, 'mean': 0.2132739, 'median': 0.0},\n",
       " {'min': 0.0, 'max': 19.999638, 'mean': 1.4950787, 'median': 1.4531902},\n",
       " {'min': 0.0, 'max': 19.999035, 'mean': 3.0766704, 'median': 3.1230588},\n",
       " {'min': 0.0, 'max': 24.602842, 'mean': 0.95843524, 'median': 0.7903419}]"
      ]
     },
     "execution_count": 5,
     "metadata": {},
     "output_type": "execute_result"
    }
   ],
   "source": [
    "stats"
   ]
  },
  {
   "cell_type": "code",
   "execution_count": null,
   "metadata": {},
   "outputs": [],
   "source": [
    "for f in sorted(flist):\n",
    "    d=np.load(f)\n",
    "    print(type(d))\n",
    "\n",
    "#     np.histogram(d[0], bins=50, range=(np.nanmin(d),np.nanmax(d)))\n",
    "    print('shape', d[0].shape)\n",
    "#     plt.hist(d[0],bins=50)\n",
    "    np.histogramdd(d,bins=50)\n",
    "    plt.show()\n",
    "#     print('done')\n"
   ]
  },
  {
   "cell_type": "code",
   "execution_count": null,
   "metadata": {},
   "outputs": [],
   "source": []
  }
 ],
 "metadata": {
  "kernelspec": {
   "display_name": "Python 3",
   "language": "python",
   "name": "python3"
  },
  "language_info": {
   "codemirror_mode": {
    "name": "ipython",
    "version": 3
   },
   "file_extension": ".py",
   "mimetype": "text/x-python",
   "name": "python",
   "nbconvert_exporter": "python",
   "pygments_lexer": "ipython3",
   "version": "3.6.7"
  }
 },
 "nbformat": 4,
 "nbformat_minor": 2
}
