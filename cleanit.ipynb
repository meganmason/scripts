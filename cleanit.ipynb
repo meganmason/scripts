{
 "cells": [
  {
   "cell_type": "code",
   "execution_count": 1,
   "metadata": {},
   "outputs": [],
   "source": [
    "%matplotlib inline \n",
    "\n",
    "import os\n",
    "import glob\n",
    "import numpy as np\n",
    "import pandas as pd\n",
    "import matplotlib.pyplot as plt\n",
    "import sys\n",
    "import datetime\n",
    "\n",
    "import fiona\n",
    "import rasterio\n",
    "import rasterio.mask\n",
    "import rasterio.plot"
   ]
  },
  {
   "cell_type": "code",
   "execution_count": 2,
   "metadata": {},
   "outputs": [],
   "source": [
    "path = '/home/meganmason/Documents/projects/thesis/data/processing_lidar/depths_3m/{}/*.tif'\n",
    "shp = '/home/meganmason/Documents/projects/thesis/maps/map_layers/tuolumne_delineation/corrected_tuolumne_subbasin.shp'\n",
    "out_path = '/home/meganmason/Documents/projects/thesis/data/processing_lidar/depths_3m/clean/level_1/'"
   ]
  },
  {
   "cell_type": "code",
   "execution_count": 3,
   "metadata": {},
   "outputs": [
    {
     "name": "stdout",
     "output_type": "stream",
     "text": [
      "2013\n"
     ]
    },
    {
     "name": "stderr",
     "output_type": "stream",
     "text": [
      "/home/meganmason/Documents/projects/thesis/analysis/virtual_envs/data_analysis/lib/python3.6/site-packages/ipykernel_launcher.py:24: RuntimeWarning: invalid value encountered in less\n"
     ]
    },
    {
     "name": "stdout",
     "output_type": "stream",
     "text": [
      "output filename /home/meganmason/Documents/projects/thesis/data/processing_lidar/depths_3m/clean/arr_20130403\n",
      "output filename /home/meganmason/Documents/projects/thesis/data/processing_lidar/depths_3m/clean/arr_20130429\n",
      "output filename /home/meganmason/Documents/projects/thesis/data/processing_lidar/depths_3m/clean/arr_20130503\n",
      "output filename /home/meganmason/Documents/projects/thesis/data/processing_lidar/depths_3m/clean/arr_20130525\n",
      "output filename /home/meganmason/Documents/projects/thesis/data/processing_lidar/depths_3m/clean/arr_20130601\n",
      "output filename /home/meganmason/Documents/projects/thesis/data/processing_lidar/depths_3m/clean/arr_20130608\n",
      "2014\n",
      "output filename /home/meganmason/Documents/projects/thesis/data/processing_lidar/depths_3m/clean/arr_20140323\n",
      "output filename /home/meganmason/Documents/projects/thesis/data/processing_lidar/depths_3m/clean/arr_20140407\n",
      "output filename /home/meganmason/Documents/projects/thesis/data/processing_lidar/depths_3m/clean/arr_20140413\n",
      "output filename /home/meganmason/Documents/projects/thesis/data/processing_lidar/depths_3m/clean/arr_20140420\n",
      "output filename /home/meganmason/Documents/projects/thesis/data/processing_lidar/depths_3m/clean/arr_20140428\n",
      "output filename /home/meganmason/Documents/projects/thesis/data/processing_lidar/depths_3m/clean/arr_20140502\n",
      "output filename /home/meganmason/Documents/projects/thesis/data/processing_lidar/depths_3m/clean/arr_20140511\n",
      "output filename /home/meganmason/Documents/projects/thesis/data/processing_lidar/depths_3m/clean/arr_20140517\n",
      "output filename /home/meganmason/Documents/projects/thesis/data/processing_lidar/depths_3m/clean/arr_20140527\n",
      "output filename /home/meganmason/Documents/projects/thesis/data/processing_lidar/depths_3m/clean/arr_20140531\n",
      "output filename /home/meganmason/Documents/projects/thesis/data/processing_lidar/depths_3m/clean/arr_20140605\n",
      "2015\n",
      "output filename /home/meganmason/Documents/projects/thesis/data/processing_lidar/depths_3m/clean/arr_20150218\n",
      "output filename /home/meganmason/Documents/projects/thesis/data/processing_lidar/depths_3m/clean/arr_20150306\n",
      "output filename /home/meganmason/Documents/projects/thesis/data/processing_lidar/depths_3m/clean/arr_20150325\n",
      "output filename /home/meganmason/Documents/projects/thesis/data/processing_lidar/depths_3m/clean/arr_20150403\n",
      "output filename /home/meganmason/Documents/projects/thesis/data/processing_lidar/depths_3m/clean/arr_20150409\n",
      "output filename /home/meganmason/Documents/projects/thesis/data/processing_lidar/depths_3m/clean/arr_20150415\n",
      "output filename /home/meganmason/Documents/projects/thesis/data/processing_lidar/depths_3m/clean/arr_20150427\n",
      "output filename /home/meganmason/Documents/projects/thesis/data/processing_lidar/depths_3m/clean/arr_20150501\n",
      "output filename /home/meganmason/Documents/projects/thesis/data/processing_lidar/depths_3m/clean/arr_20150528\n",
      "output filename /home/meganmason/Documents/projects/thesis/data/processing_lidar/depths_3m/clean/arr_20150608\n",
      "2016\n",
      "output filename /home/meganmason/Documents/projects/thesis/data/processing_lidar/depths_3m/clean/arr_20160326\n",
      "output filename /home/meganmason/Documents/projects/thesis/data/processing_lidar/depths_3m/clean/arr_20160407\n",
      "output filename /home/meganmason/Documents/projects/thesis/data/processing_lidar/depths_3m/clean/arr_20160416\n",
      "output filename /home/meganmason/Documents/projects/thesis/data/processing_lidar/depths_3m/clean/arr_20160426\n",
      "output filename /home/meganmason/Documents/projects/thesis/data/processing_lidar/depths_3m/clean/arr_20160509\n",
      "output filename /home/meganmason/Documents/projects/thesis/data/processing_lidar/depths_3m/clean/arr_20160527\n",
      "output filename /home/meganmason/Documents/projects/thesis/data/processing_lidar/depths_3m/clean/arr_20160607\n",
      "output filename /home/meganmason/Documents/projects/thesis/data/processing_lidar/depths_3m/clean/arr_20160613\n",
      "output filename /home/meganmason/Documents/projects/thesis/data/processing_lidar/depths_3m/clean/arr_20160620\n",
      "output filename /home/meganmason/Documents/projects/thesis/data/processing_lidar/depths_3m/clean/arr_20160625\n",
      "output filename /home/meganmason/Documents/projects/thesis/data/processing_lidar/depths_3m/clean/arr_20160701\n",
      "output filename /home/meganmason/Documents/projects/thesis/data/processing_lidar/depths_3m/clean/arr_20160708\n",
      "output filename /home/meganmason/Documents/projects/thesis/data/processing_lidar/depths_3m/clean/arr_20160401\n",
      "2017\n",
      "output filename /home/meganmason/Documents/projects/thesis/data/processing_lidar/depths_3m/clean/arr_20170129\n",
      "output filename /home/meganmason/Documents/projects/thesis/data/processing_lidar/depths_3m/clean/arr_20170303\n",
      "output filename /home/meganmason/Documents/projects/thesis/data/processing_lidar/depths_3m/clean/arr_20170401\n",
      "output filename /home/meganmason/Documents/projects/thesis/data/processing_lidar/depths_3m/clean/arr_20170502\n",
      "output filename /home/meganmason/Documents/projects/thesis/data/processing_lidar/depths_3m/clean/arr_20170604\n",
      "output filename /home/meganmason/Documents/projects/thesis/data/processing_lidar/depths_3m/clean/arr_20170709\n",
      "output filename /home/meganmason/Documents/projects/thesis/data/processing_lidar/depths_3m/clean/arr_20170717\n",
      "output filename /home/meganmason/Documents/projects/thesis/data/processing_lidar/depths_3m/clean/arr_20170816\n",
      "output filename /home/meganmason/Documents/projects/thesis/data/processing_lidar/depths_3m/clean/arr_20170727\n",
      "2018\n",
      "output filename /home/meganmason/Documents/projects/thesis/data/processing_lidar/depths_3m/clean/arr_20180423\n",
      "output filename /home/meganmason/Documents/projects/thesis/data/processing_lidar/depths_3m/clean/arr_20180528\n"
     ]
    }
   ],
   "source": [
    "''' open Tuolumne shapefile '''\n",
    "with fiona.open(shp, \"r\") as shapefile:\n",
    "    geoms = [feature[\"geometry\"] for feature in shapefile]\n",
    "\n",
    "start = 2013; end = 2018\n",
    "\n",
    "for year in range(start, end+1): #loops each year\n",
    "    print(year)\n",
    "    flist = glob.glob(path.format(year)) #list of every tif file\n",
    "    for i, f in enumerate(sorted(flist)): #f is each lidar tif\n",
    "# #         print(i, f)\n",
    "\n",
    "        '''parse date and generate output filename'''\n",
    "        dt_str = f.split(\"/\")[-1] #splits on / and saves the last one\n",
    "        dt_str = \"\".join([c for c in dt_str if c.isnumeric()]) #grabs numeric values\n",
    "        dt_str = dt_str[:8] #HARD CODE (but works!)...grabs just yyyymmdd and not the numbers in 3p0m.tif\n",
    "\n",
    "        out_fname = out_path + 'arr_' + dt_str # generate output filename (appends date string)\n",
    "\n",
    "        \n",
    "        ''' clip & clean data'''\n",
    "        with rasterio.open(f) as src:\n",
    "            out_image, out_transform = rasterio.mask.mask(src, geoms, crop=True, nodata=np.nan) # crops to Tuolumne shapefile\n",
    "            out_image[out_image<0]=np.nan # removes any negatives\n",
    "            out_meta = src.meta.copy()\n",
    "            \n",
    "        out_meta.update({\"driver\": \"GTiff\",\n",
    "             \"height\": out_image.shape[1],\n",
    "             \"width\": out_image.shape[2],\n",
    "             \"transform\": out_transform})\n",
    "    \n",
    "        ''' update meta data on cropped tifs '''\n",
    "        with rasterio.open(\"tmp_out/mask.tif\", \"w\", **out_meta) as dest:\n",
    "            dest.write(out_image)\n",
    "            \n",
    "#         ''' show data'''\n",
    "#             plt.imshow(out_image[0], cmap='Blues')\n",
    "#             plt.show()\n",
    "            \n",
    "        print('output filename = ', out_fname)   \n",
    "        np.save(out_fname, out_image)  \n",
    "            \n",
    "#             print('out filename', out_fname)\n",
    "#             print(type(out_image), out_image.shape)\n",
    "            \n",
    "\n"
   ]
  },
  {
   "cell_type": "code",
   "execution_count": null,
   "metadata": {},
   "outputs": [],
   "source": []
  }
 ],
 "metadata": {
  "kernelspec": {
   "display_name": "Python 3",
   "language": "python",
   "name": "python3"
  },
  "language_info": {
   "codemirror_mode": {
    "name": "ipython",
    "version": 3
   },
   "file_extension": ".py",
   "mimetype": "text/x-python",
   "name": "python",
   "nbconvert_exporter": "python",
   "pygments_lexer": "ipython3",
   "version": "3.6.7"
  }
 },
 "nbformat": 4,
 "nbformat_minor": 2
}
