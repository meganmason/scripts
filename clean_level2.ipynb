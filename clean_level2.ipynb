{
 "cells": [
  {
   "cell_type": "code",
   "execution_count": 1,
   "metadata": {},
   "outputs": [],
   "source": [
    "%matplotlib inline \n",
    "\n",
    "import os\n",
    "import glob\n",
    "import numpy as np\n",
    "import pandas as pd\n",
    "import sys"
   ]
  },
  {
   "cell_type": "code",
   "execution_count": 2,
   "metadata": {},
   "outputs": [],
   "source": [
    "#NOTE: if re-runing, will need to generate 2013-2018 dirs in lvl dir. "
   ]
  },
  {
   "cell_type": "code",
   "execution_count": 3,
   "metadata": {},
   "outputs": [],
   "source": [
    "#input path (level_1)\n",
    "# path = '/home/meganmason/Documents/projects/thesis/data/processing_lidar/depths_3m/clean/level_1/{}/*.npy' #ernesto's copy cleaned, level_1\n",
    "path = '/home/meganmason/Documents/projects/thesis/data/processing_lidar/depths_50m/clean/level_1/{}/*.npy' #ernesto's copy cleaned, level_1\n",
    "#output path (level_2)\n",
    "# out_path = '/home/meganmason/Documents/projects/thesis/data/processing_lidar/depths_3m/clean/level_2/numpy/{}/'\n",
    "# out_path_df = '/home/meganmason/Documents/projects/thesis/data/processing_lidar/depths_3m/clean/level_2/dataframe/{}/'\n",
    "out_path = '/home/meganmason/Documents/projects/thesis/data/processing_lidar/depths_50m/clean/level_2/{}/'"
   ]
  },
  {
   "cell_type": "code",
   "execution_count": 6,
   "metadata": {},
   "outputs": [
    {
     "name": "stdout",
     "output_type": "stream",
     "text": [
      "2013\n",
      "(1007, 1050)\n",
      "(1001021,)\n"
     ]
    },
    {
     "ename": "SystemExit",
     "evalue": "",
     "output_type": "error",
     "traceback": [
      "An exception has occurred, use %tb to see the full traceback.\n",
      "\u001b[0;31mSystemExit\u001b[0m\n"
     ]
    },
    {
     "name": "stderr",
     "output_type": "stream",
     "text": [
      "/home/meganmason/Documents/projects/thesis/analysis/virtual_envs/data_analysis/lib/python3.6/site-packages/IPython/core/interactiveshell.py:3304: UserWarning: To exit: use 'exit', 'quit', or Ctrl-D.\n",
      "  warn(\"To exit: use 'exit', 'quit', or Ctrl-D.\", stacklevel=1)\n"
     ]
    }
   ],
   "source": [
    "# generate numpy arrays\n",
    "start = 2013; end = 2018\n",
    "years=range(start,end+1)\n",
    "\n",
    "# flist = glob.glob(path.format(years)) #list of all numpy arrays from level_1 (clipped to Tuolumne shapefile)\n",
    "\n",
    "for year in years: #loops each year\n",
    "    print(year)\n",
    "    flist = glob.glob(path.format(year))\n",
    "    for f in sorted(flist):\n",
    "    #     print(f)\n",
    "\n",
    "        #loop over data\n",
    "        d_=np.load(f)\n",
    "        d=np.squeeze(d_) #\n",
    "        print(d.shape)\n",
    "        d=d[d !=0] #\n",
    "        print(d.shape)\n",
    "\n",
    "        #title info (i.e date)\n",
    "        dt_str = f.split(\"/\")[-1] #splits on / and saves the last one\n",
    "        dt_str = \"\".join([c for c in dt_str if c.isnumeric()]) #grabs numeric values\n",
    "        dt = pd.to_datetime(dt_str) #convert to datetime\n",
    "\n",
    "        out_fname = out_path.format(year) + 'arr_' + dt_str # generate output filename (appends date string)\n",
    "        sys.exit()\n",
    "#         print('output filename = ', out_fname)   \n",
    "#         np.save(out_fname, d) #saves array d #UNCOMMENT TO RE-RUN (won't seperate into year directories, fyi)\n",
    "\n",
    "#~~~~~~~~~~~~~~~~~~~~~~~~~~~~~~~~~~~~~~~~~~~~~~~~~~~~~~~~~~~~~~~~~~~~~~~~~~~~~~~~~~~~~~~~~~~~~~~~~~~~~~~~~\n",
    "#d is 1d array, ready for summary stats (will need to reshape for spatial stats)"
   ]
  },
  {
   "cell_type": "code",
   "execution_count": 5,
   "metadata": {},
   "outputs": [],
   "source": [
    "# # generate pandas DataFrame \n",
    "#      # good place to quantify #nans....\n",
    "    \n",
    "# # NOT FINISHED....don't really want to save it as a df csv. so will convert when I want to use Seaborn\n",
    "\n",
    "# for year in years: #loops each year\n",
    "#     print(year)\n",
    "#     flist = glob.glob(out_path.format(year) + '/*.npy')\n",
    "    \n",
    "#     for f in sorted(flist):\n",
    "#         print(f)\n",
    "\n",
    "#         data_arr=np.load(f) #load data array (from the numpy dir)\n",
    "#         df = pd.DataFrame(data=data_arr.flatten(), columns=['SD[m]'], dtype=np.float)\n",
    "# #         print(df)\n",
    "\n",
    "#         #title info (i.e date)\n",
    "#         dt_str = f.split(\"/\")[-1] #splits on / and saves the last one\n",
    "#         dt_str = \"\".join([c for c in dt_str if c.isnumeric()]) #grabs numeric values\n",
    "#         dt = pd.to_datetime(dt_str) #convert to datetime\n",
    "\n",
    "# #         out_fname = out_path_df.format(year) + 'df_' + dt_str # generate output filename (appends date string)\n",
    "# #         print('output filename = ', out_fname)\n",
    "#     print('done')\n",
    "        \n",
    "       "
   ]
  },
  {
   "cell_type": "code",
   "execution_count": null,
   "metadata": {},
   "outputs": [],
   "source": []
  }
 ],
 "metadata": {
  "kernelspec": {
   "display_name": "Python 3",
   "language": "python",
   "name": "python3"
  },
  "language_info": {
   "codemirror_mode": {
    "name": "ipython",
    "version": 3
   },
   "file_extension": ".py",
   "mimetype": "text/x-python",
   "name": "python",
   "nbconvert_exporter": "python",
   "pygments_lexer": "ipython3",
   "version": "3.6.7"
  }
 },
 "nbformat": 4,
 "nbformat_minor": 2
}
