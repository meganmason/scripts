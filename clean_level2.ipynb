{
 "cells": [
  {
   "cell_type": "code",
   "execution_count": 26,
   "metadata": {},
   "outputs": [],
   "source": [
    "%matplotlib inline \n",
    "\n",
    "import os\n",
    "import glob\n",
    "import numpy as np\n",
    "import pandas as pd\n",
    "import sys"
   ]
  },
  {
   "cell_type": "code",
   "execution_count": 27,
   "metadata": {},
   "outputs": [],
   "source": [
    "#NOTE: if re-runing, will need to generate 2013-2018 dirs in lvl dir. "
   ]
  },
  {
   "cell_type": "code",
   "execution_count": 28,
   "metadata": {},
   "outputs": [],
   "source": [
    "#input path (level_1)\n",
    "path = '/home/meganmason/Documents/projects/thesis/data/processing_lidar/depths_3m/clean/level_1/{}/*.npy' #ernesto's copy cleaned, level_1\n",
    "#output path (level_2)\n",
    "out_path = '/home/meganmason/Documents/projects/thesis/data/processing_lidar/depths_3m/clean/level_2/numpy/{}/'\n",
    "out_path_df = '/home/meganmason/Documents/projects/thesis/data/processing_lidar/depths_3m/clean/level_2/dataframe/{}/'"
   ]
  },
  {
   "cell_type": "code",
   "execution_count": 11,
   "metadata": {},
   "outputs": [
    {
     "name": "stdout",
     "output_type": "stream",
     "text": [
      "2013\n",
      "2014\n"
     ]
    },
    {
     "ename": "KeyboardInterrupt",
     "evalue": "",
     "output_type": "error",
     "traceback": [
      "\u001b[0;31m---------------------------------------------------------------------------\u001b[0m",
      "\u001b[0;31mKeyboardInterrupt\u001b[0m                         Traceback (most recent call last)",
      "\u001b[0;32m<ipython-input-11-26b9c0df7f01>\u001b[0m in \u001b[0;36m<module>\u001b[0;34m\u001b[0m\n\u001b[1;32m     14\u001b[0m         \u001b[0md_\u001b[0m\u001b[0;34m=\u001b[0m\u001b[0mnp\u001b[0m\u001b[0;34m.\u001b[0m\u001b[0mload\u001b[0m\u001b[0;34m(\u001b[0m\u001b[0mf\u001b[0m\u001b[0;34m)\u001b[0m\u001b[0;34m\u001b[0m\u001b[0;34m\u001b[0m\u001b[0m\n\u001b[1;32m     15\u001b[0m         \u001b[0md\u001b[0m\u001b[0;34m=\u001b[0m\u001b[0mnp\u001b[0m\u001b[0;34m.\u001b[0m\u001b[0msqueeze\u001b[0m\u001b[0;34m(\u001b[0m\u001b[0md_\u001b[0m\u001b[0;34m)\u001b[0m \u001b[0;31m#print(d.shape)\u001b[0m\u001b[0;34m\u001b[0m\u001b[0;34m\u001b[0m\u001b[0m\n\u001b[0;32m---> 16\u001b[0;31m         \u001b[0md\u001b[0m\u001b[0;34m=\u001b[0m\u001b[0md\u001b[0m\u001b[0;34m[\u001b[0m\u001b[0md\u001b[0m \u001b[0;34m!=\u001b[0m\u001b[0;36m0\u001b[0m\u001b[0;34m]\u001b[0m \u001b[0;31m#print(d.shape)\u001b[0m\u001b[0;34m\u001b[0m\u001b[0;34m\u001b[0m\u001b[0m\n\u001b[0m\u001b[1;32m     17\u001b[0m \u001b[0;34m\u001b[0m\u001b[0m\n\u001b[1;32m     18\u001b[0m         \u001b[0;31m#title info (i.e date)\u001b[0m\u001b[0;34m\u001b[0m\u001b[0;34m\u001b[0m\u001b[0;34m\u001b[0m\u001b[0m\n",
      "\u001b[0;31mKeyboardInterrupt\u001b[0m: "
     ]
    }
   ],
   "source": [
    "# generate numpy arrays\n",
    "start = 2013; end = 2018\n",
    "years=range(start,end+1)\n",
    "\n",
    "# flist = glob.glob(path.format(years)) #list of all numpy arrays from level_1 (clipped to Tuolumne shapefile)\n",
    "\n",
    "for year in years: #loops each year\n",
    "    print(year)\n",
    "    flist = glob.glob(path.format(year))\n",
    "    for f in sorted(flist):\n",
    "    #     print(f)\n",
    "\n",
    "        #loop over data\n",
    "        d_=np.load(f)\n",
    "        d=np.squeeze(d_) #print(d.shape)\n",
    "        d=d[d !=0] #print(d.shape)\n",
    "\n",
    "        #title info (i.e date)\n",
    "        dt_str = f.split(\"/\")[-1] #splits on / and saves the last one\n",
    "        dt_str = \"\".join([c for c in dt_str if c.isnumeric()]) #grabs numeric values\n",
    "        dt = pd.to_datetime(dt_str) #convert to datetime\n",
    "\n",
    "        out_fname = out_path.format(year) + 'arr_' + dt_str # generate output filename (appends date string)\n",
    "\n",
    "#         print('output filename = ', out_fname)   \n",
    "#         np.save(out_fname, d) #saves array d #UNCOMMENT TO RE-RUN (won't seperate into year directories, fyi)\n",
    "\n",
    "#~~~~~~~~~~~~~~~~~~~~~~~~~~~~~~~~~~~~~~~~~~~~~~~~~~~~~~~~~~~~~~~~~~~~~~~~~~~~~~~~~~~~~~~~~~~~~~~~~~~~~~~~~\n",
    "#d is 1d array, ready for summary stats (will need to reshape for spatial stats)"
   ]
  },
  {
   "cell_type": "code",
   "execution_count": 31,
   "metadata": {},
   "outputs": [
    {
     "name": "stdout",
     "output_type": "stream",
     "text": [
      "2013\n",
      "/home/meganmason/Documents/projects/thesis/data/processing_lidar/depths_3m/clean/level_2/numpy/2013/arr_20130403.npy\n",
      "/home/meganmason/Documents/projects/thesis/data/processing_lidar/depths_3m/clean/level_2/numpy/2013/arr_20130429.npy\n",
      "/home/meganmason/Documents/projects/thesis/data/processing_lidar/depths_3m/clean/level_2/numpy/2013/arr_20130503.npy\n",
      "/home/meganmason/Documents/projects/thesis/data/processing_lidar/depths_3m/clean/level_2/numpy/2013/arr_20130525.npy\n",
      "/home/meganmason/Documents/projects/thesis/data/processing_lidar/depths_3m/clean/level_2/numpy/2013/arr_20130601.npy\n",
      "/home/meganmason/Documents/projects/thesis/data/processing_lidar/depths_3m/clean/level_2/numpy/2013/arr_20130608.npy\n",
      "done\n",
      "2014\n",
      "/home/meganmason/Documents/projects/thesis/data/processing_lidar/depths_3m/clean/level_2/numpy/2014/arr_20140323.npy\n",
      "/home/meganmason/Documents/projects/thesis/data/processing_lidar/depths_3m/clean/level_2/numpy/2014/arr_20140407.npy\n",
      "/home/meganmason/Documents/projects/thesis/data/processing_lidar/depths_3m/clean/level_2/numpy/2014/arr_20140413.npy\n",
      "/home/meganmason/Documents/projects/thesis/data/processing_lidar/depths_3m/clean/level_2/numpy/2014/arr_20140420.npy\n",
      "/home/meganmason/Documents/projects/thesis/data/processing_lidar/depths_3m/clean/level_2/numpy/2014/arr_20140428.npy\n"
     ]
    },
    {
     "ename": "KeyboardInterrupt",
     "evalue": "",
     "output_type": "error",
     "traceback": [
      "\u001b[0;31m---------------------------------------------------------------------------\u001b[0m",
      "\u001b[0;31mKeyboardInterrupt\u001b[0m                         Traceback (most recent call last)",
      "\u001b[0;32m<ipython-input-31-5900a0e7feb1>\u001b[0m in \u001b[0;36m<module>\u001b[0;34m\u001b[0m\n\u001b[1;32m      9\u001b[0m         \u001b[0mprint\u001b[0m\u001b[0;34m(\u001b[0m\u001b[0mf\u001b[0m\u001b[0;34m)\u001b[0m\u001b[0;34m\u001b[0m\u001b[0;34m\u001b[0m\u001b[0m\n\u001b[1;32m     10\u001b[0m \u001b[0;34m\u001b[0m\u001b[0m\n\u001b[0;32m---> 11\u001b[0;31m         \u001b[0mdata_arr\u001b[0m\u001b[0;34m=\u001b[0m\u001b[0mnp\u001b[0m\u001b[0;34m.\u001b[0m\u001b[0mload\u001b[0m\u001b[0;34m(\u001b[0m\u001b[0mf\u001b[0m\u001b[0;34m)\u001b[0m \u001b[0;31m#load data array (from the numpy dir)\u001b[0m\u001b[0;34m\u001b[0m\u001b[0;34m\u001b[0m\u001b[0m\n\u001b[0m\u001b[1;32m     12\u001b[0m         \u001b[0mdf\u001b[0m \u001b[0;34m=\u001b[0m \u001b[0mpd\u001b[0m\u001b[0;34m.\u001b[0m\u001b[0mDataFrame\u001b[0m\u001b[0;34m(\u001b[0m\u001b[0mdata\u001b[0m\u001b[0;34m=\u001b[0m\u001b[0mdata_arr\u001b[0m\u001b[0;34m.\u001b[0m\u001b[0mflatten\u001b[0m\u001b[0;34m(\u001b[0m\u001b[0;34m)\u001b[0m\u001b[0;34m,\u001b[0m \u001b[0mcolumns\u001b[0m\u001b[0;34m=\u001b[0m\u001b[0;34m[\u001b[0m\u001b[0;34m'SD[m]'\u001b[0m\u001b[0;34m]\u001b[0m\u001b[0;34m,\u001b[0m \u001b[0mdtype\u001b[0m\u001b[0;34m=\u001b[0m\u001b[0mnp\u001b[0m\u001b[0;34m.\u001b[0m\u001b[0mfloat\u001b[0m\u001b[0;34m)\u001b[0m\u001b[0;34m\u001b[0m\u001b[0;34m\u001b[0m\u001b[0m\n\u001b[1;32m     13\u001b[0m \u001b[0;31m#         print(df)\u001b[0m\u001b[0;34m\u001b[0m\u001b[0;34m\u001b[0m\u001b[0;34m\u001b[0m\u001b[0m\n",
      "\u001b[0;32m~/Documents/projects/thesis/analysis/virtual_envs/data_analysis/lib/python3.6/site-packages/numpy/lib/npyio.py\u001b[0m in \u001b[0;36mload\u001b[0;34m(file, mmap_mode, allow_pickle, fix_imports, encoding)\u001b[0m\n\u001b[1;32m    438\u001b[0m             \u001b[0;32melse\u001b[0m\u001b[0;34m:\u001b[0m\u001b[0;34m\u001b[0m\u001b[0;34m\u001b[0m\u001b[0m\n\u001b[1;32m    439\u001b[0m                 return format.read_array(fid, allow_pickle=allow_pickle,\n\u001b[0;32m--> 440\u001b[0;31m                                          pickle_kwargs=pickle_kwargs)\n\u001b[0m\u001b[1;32m    441\u001b[0m         \u001b[0;32melse\u001b[0m\u001b[0;34m:\u001b[0m\u001b[0;34m\u001b[0m\u001b[0;34m\u001b[0m\u001b[0m\n\u001b[1;32m    442\u001b[0m             \u001b[0;31m# Try a pickle\u001b[0m\u001b[0;34m\u001b[0m\u001b[0;34m\u001b[0m\u001b[0;34m\u001b[0m\u001b[0m\n",
      "\u001b[0;32m~/Documents/projects/thesis/analysis/virtual_envs/data_analysis/lib/python3.6/site-packages/numpy/lib/format.py\u001b[0m in \u001b[0;36mread_array\u001b[0;34m(fp, allow_pickle, pickle_kwargs)\u001b[0m\n\u001b[1;32m    702\u001b[0m         \u001b[0;32mif\u001b[0m \u001b[0misfileobj\u001b[0m\u001b[0;34m(\u001b[0m\u001b[0mfp\u001b[0m\u001b[0;34m)\u001b[0m\u001b[0;34m:\u001b[0m\u001b[0;34m\u001b[0m\u001b[0;34m\u001b[0m\u001b[0m\n\u001b[1;32m    703\u001b[0m             \u001b[0;31m# We can use the fast fromfile() function.\u001b[0m\u001b[0;34m\u001b[0m\u001b[0;34m\u001b[0m\u001b[0;34m\u001b[0m\u001b[0m\n\u001b[0;32m--> 704\u001b[0;31m             \u001b[0marray\u001b[0m \u001b[0;34m=\u001b[0m \u001b[0mnumpy\u001b[0m\u001b[0;34m.\u001b[0m\u001b[0mfromfile\u001b[0m\u001b[0;34m(\u001b[0m\u001b[0mfp\u001b[0m\u001b[0;34m,\u001b[0m \u001b[0mdtype\u001b[0m\u001b[0;34m=\u001b[0m\u001b[0mdtype\u001b[0m\u001b[0;34m,\u001b[0m \u001b[0mcount\u001b[0m\u001b[0;34m=\u001b[0m\u001b[0mcount\u001b[0m\u001b[0;34m)\u001b[0m\u001b[0;34m\u001b[0m\u001b[0;34m\u001b[0m\u001b[0m\n\u001b[0m\u001b[1;32m    705\u001b[0m         \u001b[0;32melse\u001b[0m\u001b[0;34m:\u001b[0m\u001b[0;34m\u001b[0m\u001b[0;34m\u001b[0m\u001b[0m\n\u001b[1;32m    706\u001b[0m             \u001b[0;31m# This is not a real file. We have to read it the\u001b[0m\u001b[0;34m\u001b[0m\u001b[0;34m\u001b[0m\u001b[0;34m\u001b[0m\u001b[0m\n",
      "\u001b[0;31mKeyboardInterrupt\u001b[0m: "
     ]
    }
   ],
   "source": [
    "# generate pandas DataFrame \n",
    "     # good place to quantify #nans....\n",
    "    \n",
    "# NOT FINISHED....don't really want to save it as a df csv. so will convert when I want to use Seaborn\n",
    "\n",
    "for year in years: #loops each year\n",
    "    print(year)\n",
    "    flist = glob.glob(out_path.format(year) + '/*.npy')\n",
    "    \n",
    "    for f in sorted(flist):\n",
    "        print(f)\n",
    "\n",
    "        data_arr=np.load(f) #load data array (from the numpy dir)\n",
    "        df = pd.DataFrame(data=data_arr.flatten(), columns=['SD[m]'], dtype=np.float)\n",
    "#         print(df)\n",
    "\n",
    "        #title info (i.e date)\n",
    "        dt_str = f.split(\"/\")[-1] #splits on / and saves the last one\n",
    "        dt_str = \"\".join([c for c in dt_str if c.isnumeric()]) #grabs numeric values\n",
    "        dt = pd.to_datetime(dt_str) #convert to datetime\n",
    "\n",
    "#         out_fname = out_path_df.format(year) + 'df_' + dt_str # generate output filename (appends date string)\n",
    "#         print('output filename = ', out_fname)\n",
    "    print('done')\n",
    "        \n",
    "       "
   ]
  },
  {
   "cell_type": "code",
   "execution_count": null,
   "metadata": {},
   "outputs": [],
   "source": []
  }
 ],
 "metadata": {
  "kernelspec": {
   "display_name": "Python 3",
   "language": "python",
   "name": "python3"
  },
  "language_info": {
   "codemirror_mode": {
    "name": "ipython",
    "version": 3
   },
   "file_extension": ".py",
   "mimetype": "text/x-python",
   "name": "python",
   "nbconvert_exporter": "python",
   "pygments_lexer": "ipython3",
   "version": "3.6.7"
  }
 },
 "nbformat": 4,
 "nbformat_minor": 2
}
