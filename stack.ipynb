{
 "cells": [
  {
   "cell_type": "code",
   "execution_count": 1,
   "metadata": {},
   "outputs": [],
   "source": [
    "%matplotlib inline \n",
    "\n",
    "import os\n",
    "import glob\n",
    "import numpy as np\n",
    "import pandas as pd\n",
    "import matplotlib.pyplot as plt\n",
    "import sys\n",
    "import datetime\n",
    "\n",
    "import fiona\n",
    "import rasterio\n",
    "import rasterio.mask\n",
    "import rasterio.plot"
   ]
  },
  {
   "cell_type": "code",
   "execution_count": 2,
   "metadata": {},
   "outputs": [],
   "source": [
    "# def to clean lidar tifs\n",
    "\n",
    "def clean_lidar():\n",
    "\n",
    "    for i,f in enumerate(sorted(flist)):\n",
    "        print(i,f)    \n",
    "        z=0\n",
    "        ''' open Tuolumne shapefile '''\n",
    "        with fiona.open(shp, \"r\") as shapefile:\n",
    "            geoms = [feature[\"geometry\"] for feature in shapefile]\n",
    "\n",
    "        ''' open lidar tifs\n",
    "            crops to shapefile\n",
    "            makes no data NANs '''\n",
    "        with rasterio.open(f) as src:\n",
    "            out_image, out_transform = rasterio.mask.mask(src, geoms, crop=True, nodata=np.nan) # crops to Tuolumne shapefile\n",
    "            out_image[out_image<0]=np.nan # removes any negatives\n",
    "            out_meta = src.meta.copy()\n",
    "\n",
    "        out_meta.update({\"driver\": \"GTiff\",\n",
    "                         \"height\": out_image.shape[1],\n",
    "                         \"width\": out_image.shape[2],\n",
    "                         \"transform\": out_transform})\n",
    "\n",
    "        ''' update meta data on cropped tifs '''\n",
    "        with rasterio.open(\"tmp_out/mask.tif\", \"w\", **out_meta) as dest:\n",
    "            dest.write(out_image)\n",
    "\n",
    "        ''' plot settings '''\n",
    "    #     fig = plt.figure(figsize=(10,10))\n",
    "    #     plt.imshow(out_image[0,:,:], cmap='Blues')\n",
    "    #     plt.show()\n",
    "\n",
    "#             print('{}'.format(yrs[z]), out_image.shape)\n",
    "        print(out_image.shape)\n",
    "\n",
    "    #         np.save('/home/meganmason/Documents/projects/thesis/data/processing_lidar/depths_3m/peak_sd/clean/arr_{}'.format(yrs[z]), out_image)\n",
    "\n",
    "        z+=1\n"
   ]
  },
  {
   "cell_type": "code",
   "execution_count": 28,
   "metadata": {},
   "outputs": [
    {
     "name": "stdout",
     "output_type": "stream",
     "text": [
      "27\n",
      "range(0, 27)\n"
     ]
    },
    {
     "ename": "MemoryError",
     "evalue": "",
     "output_type": "error",
     "traceback": [
      "\u001b[0;31m---------------------------------------------------------------------------\u001b[0m",
      "\u001b[0;31mMemoryError\u001b[0m                               Traceback (most recent call last)",
      "\u001b[0;32m<ipython-input-28-5b12d48ddfae>\u001b[0m in \u001b[0;36m<module>\u001b[0;34m\u001b[0m\n\u001b[1;32m     13\u001b[0m \u001b[0my\u001b[0m \u001b[0;34m=\u001b[0m \u001b[0;36m17489\u001b[0m \u001b[0;31m#size of 2013-2015\u001b[0m\u001b[0;34m\u001b[0m\u001b[0;34m\u001b[0m\u001b[0m\n\u001b[1;32m     14\u001b[0m \u001b[0;31m# arr = np.empty((z, x, y), dtype=int)\u001b[0m\u001b[0;34m\u001b[0m\u001b[0;34m\u001b[0m\u001b[0;34m\u001b[0m\u001b[0m\n\u001b[0;32m---> 15\u001b[0;31m \u001b[0marr\u001b[0m \u001b[0;34m=\u001b[0m \u001b[0mnp\u001b[0m\u001b[0;34m.\u001b[0m\u001b[0mempty\u001b[0m\u001b[0;34m(\u001b[0m\u001b[0;34m(\u001b[0m\u001b[0;36m23\u001b[0m\u001b[0;34m,\u001b[0m \u001b[0;36m16000\u001b[0m\u001b[0;34m,\u001b[0m \u001b[0;36m17000\u001b[0m\u001b[0;34m)\u001b[0m\u001b[0;34m,\u001b[0m \u001b[0mdtype\u001b[0m\u001b[0;34m=\u001b[0m\u001b[0mint\u001b[0m\u001b[0;34m)\u001b[0m\u001b[0;34m\u001b[0m\u001b[0;34m\u001b[0m\u001b[0m\n\u001b[0m\u001b[1;32m     16\u001b[0m \u001b[0;31m# print(arr)\u001b[0m\u001b[0;34m\u001b[0m\u001b[0;34m\u001b[0m\u001b[0;34m\u001b[0m\u001b[0m\n\u001b[1;32m     17\u001b[0m \u001b[0;34m\u001b[0m\u001b[0m\n",
      "\u001b[0;31mMemoryError\u001b[0m: "
     ]
    }
   ],
   "source": [
    "# list of files\n",
    "\n",
    "path = '/home/meganmason/Documents/projects/thesis/data/processing_lidar/depths_3m/all'\n",
    "shp = '/home/meganmason/Documents/projects/thesis/maps/map_layers/tuolumne_delineation/corrected_tuolumne_subbasin.shp'\n",
    "\n",
    "flist = glob.glob(path + '/*.tif') #list of every tif file\n",
    "# print(flist, '\\n')\n",
    "# print(len(flist))\n",
    "z = len(flist)\n",
    "print(z)\n",
    "print(range(z))\n",
    "x = 16780 #size of 2013-2015\n",
    "y = 17489 #size of 2013-2015\n",
    "# arr = np.empty((z, x, y), dtype=int)\n",
    "arr = np.empty((23, 16000, 17000), dtype=int)\n",
    "# print(arr)\n",
    "\n",
    "# for i in range(z):\n",
    "#     f = flist[i]\n",
    "    \n"
   ]
  },
  {
   "cell_type": "code",
   "execution_count": null,
   "metadata": {},
   "outputs": [],
   "source": [
    "clean_lidar()"
   ]
  },
  {
   "cell_type": "code",
   "execution_count": null,
   "metadata": {},
   "outputs": [],
   "source": [
    "# build lidar stack"
   ]
  }
 ],
 "metadata": {
  "kernelspec": {
   "display_name": "Python 3",
   "language": "python",
   "name": "python3"
  },
  "language_info": {
   "codemirror_mode": {
    "name": "ipython",
    "version": 3
   },
   "file_extension": ".py",
   "mimetype": "text/x-python",
   "name": "python",
   "nbconvert_exporter": "python",
   "pygments_lexer": "ipython3",
   "version": "3.6.7"
  }
 },
 "nbformat": 4,
 "nbformat_minor": 2
}
